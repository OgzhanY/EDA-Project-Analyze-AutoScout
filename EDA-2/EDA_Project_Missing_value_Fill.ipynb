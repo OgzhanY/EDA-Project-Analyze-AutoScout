{
 "cells": [
  {
   "cell_type": "markdown",
   "metadata": {},
   "source": [
    "___\n",
    "\n",
    "<p style=\"text-align: center;\"><img src=\"https://docs.google.com/uc?id=1lY0Uj5R04yMY3-ZppPWxqCr5pvBLYPnV\" class=\"img-fluid\" \n",
    "alt=\"CLRSWY\"></p>\n",
    "\n",
    "## <p style=\"background-color:#FDFEFE; font-family:newtimeroman; color:#9d4f8c; font-size:100%; text-align:center; border-radius:10px 10px;\">WAY TO REINVENT YOURSELF</p>"
   ]
  },
  {
   "cell_type": "markdown",
   "metadata": {},
   "source": [
    "<img src=https://i.ibb.co/wJW61Y2/Used-cars.jpg width=\"700\" height=\"200\">\n",
    "\n",
    "## <p style=\"background-color:#FDFEFE; font-family:newtimeroman; color:#060108; font-size:200%; text-align:center; border-radius:10px 10px;\">The Capstone Project of Data Analytics Module</p>\n",
    "\n",
    "## <p style=\"background-color:#FDFEFE; font-family:newtimeroman; color:#060108; font-size:150%; text-align:center; border-radius:10px 10px;\">Car Price Prediction EDA</p>"
   ]
  },
  {
   "cell_type": "markdown",
   "metadata": {},
   "source": [
    "# WELCOME!"
   ]
  },
  {
   "cell_type": "markdown",
   "metadata": {},
   "source": [
    "## Introduction\n",
    "Welcome to \"***AutoScout Data Analysis Project***\". This is the capstone project of ***Data Analysis*** Module. **Auto Scout** data which using for this project, scraped from the on-line car trading company in 2019, contains many features of 9 different car models. In this project, you will have the opportunity to apply many commonly used algorithms for Data Cleaning and Exploratory Data Analysis by using many Python libraries such as Numpy, Pandas, Matplotlib, Seaborn, Scipy you will analyze clean dataset.\n",
    "\n",
    "The project consists of 3 parts:\n",
    "* First part is related with 'data cleaning'. It deals with Incorrect Headers, Incorrect Format, Anomalies, Dropping useless columns.\n",
    "* Second part is related with 'filling data'. It deals with Missing Values. Categorical to numeric transformation is done.\n",
    "* Third part is related with 'handling outliers of data' via Visualisation libraries. Some insights are extracted.\n"
   ]
  },
  {
   "cell_type": "markdown",
   "metadata": {},
   "source": [
    "# PART- 2 `( Handling With Missing Vales )`"
   ]
  },
  {
   "cell_type": "code",
   "execution_count": 1,
   "metadata": {},
   "outputs": [],
   "source": [
    "import pandas as pd\n",
    "import re\n",
    "import numpy as np\n",
    "import seaborn as sns\n",
    "sns.set_style(\"whitegrid\")\n",
    "\n",
    "import matplotlib.pyplot as plt\n",
    "%matplotlib inline\n",
    "\n",
    "import warnings\n",
    "warnings.filterwarnings(\"ignore\")\n",
    "warnings.warn(\"this will not show\")\n",
    "\n",
    "#pd.set_option('display.float_format', lambda x: '%.1f' % x)\n",
    "pd.options.display.max_rows=100\n",
    "pd.options.display.max_columns=100"
   ]
  },
  {
   "cell_type": "code",
   "execution_count": 2,
   "metadata": {
    "scrolled": true
   },
   "outputs": [
    {
     "data": {
      "text/html": [
       "<div>\n",
       "<style scoped>\n",
       "    .dataframe tbody tr th:only-of-type {\n",
       "        vertical-align: middle;\n",
       "    }\n",
       "\n",
       "    .dataframe tbody tr th {\n",
       "        vertical-align: top;\n",
       "    }\n",
       "\n",
       "    .dataframe thead th {\n",
       "        text-align: right;\n",
       "    }\n",
       "</style>\n",
       "<table border=\"1\" class=\"dataframe\">\n",
       "  <thead>\n",
       "    <tr style=\"text-align: right;\">\n",
       "      <th></th>\n",
       "      <th>3925</th>\n",
       "      <th>2470</th>\n",
       "      <th>13238</th>\n",
       "    </tr>\n",
       "  </thead>\n",
       "  <tbody>\n",
       "    <tr>\n",
       "      <th>url</th>\n",
       "      <td>https://www.autoscout24.com//offers/audi-a3-sp...</td>\n",
       "      <td>https://www.autoscout24.com//offers/audi-a1-sp...</td>\n",
       "      <td>https://www.autoscout24.com//offers/renault-cl...</td>\n",
       "    </tr>\n",
       "    <tr>\n",
       "      <th>make_model</th>\n",
       "      <td>Audi A3</td>\n",
       "      <td>Audi A1</td>\n",
       "      <td>Renault Clio</td>\n",
       "    </tr>\n",
       "    <tr>\n",
       "      <th>short_description</th>\n",
       "      <td>Sportback 1.6 TDI 116 CV S tronic Design</td>\n",
       "      <td>Sportback 30 TFSI Klimaautom,Infotainm.,Navi.</td>\n",
       "      <td>IV Grandtour Luxe ENERGY / Navigation / WR</td>\n",
       "    </tr>\n",
       "    <tr>\n",
       "      <th>body_type</th>\n",
       "      <td>Sedans</td>\n",
       "      <td>Compact</td>\n",
       "      <td>Station wagon</td>\n",
       "    </tr>\n",
       "    <tr>\n",
       "      <th>price</th>\n",
       "      <td>20900</td>\n",
       "      <td>22959</td>\n",
       "      <td>13995</td>\n",
       "    </tr>\n",
       "    <tr>\n",
       "      <th>vat</th>\n",
       "      <td>VAT deductible</td>\n",
       "      <td>VAT deductible</td>\n",
       "      <td>NaN</td>\n",
       "    </tr>\n",
       "    <tr>\n",
       "      <th>km</th>\n",
       "      <td>42270.0</td>\n",
       "      <td>NaN</td>\n",
       "      <td>35661.0</td>\n",
       "    </tr>\n",
       "    <tr>\n",
       "      <th>registration</th>\n",
       "      <td>2017-05-01</td>\n",
       "      <td>NaN</td>\n",
       "      <td>2016-03-01</td>\n",
       "    </tr>\n",
       "    <tr>\n",
       "      <th>prev_owner</th>\n",
       "      <td>NaN</td>\n",
       "      <td>NaN</td>\n",
       "      <td>1.0</td>\n",
       "    </tr>\n",
       "    <tr>\n",
       "      <th>k_w</th>\n",
       "      <td>NaN</td>\n",
       "      <td>NaN</td>\n",
       "      <td>NaN</td>\n",
       "    </tr>\n",
       "    <tr>\n",
       "      <th>hp</th>\n",
       "      <td>85.0</td>\n",
       "      <td>85.0</td>\n",
       "      <td>88.0</td>\n",
       "    </tr>\n",
       "    <tr>\n",
       "      <th>type</th>\n",
       "      <td>Used</td>\n",
       "      <td>New</td>\n",
       "      <td>Used</td>\n",
       "    </tr>\n",
       "    <tr>\n",
       "      <th>previous_owners</th>\n",
       "      <td>NaN</td>\n",
       "      <td>NaN</td>\n",
       "      <td>1.0</td>\n",
       "    </tr>\n",
       "    <tr>\n",
       "      <th>next_inspection</th>\n",
       "      <td>NaN</td>\n",
       "      <td>NaN</td>\n",
       "      <td>NaN</td>\n",
       "    </tr>\n",
       "    <tr>\n",
       "      <th>inspection_new</th>\n",
       "      <td>NaN</td>\n",
       "      <td>NaN</td>\n",
       "      <td>Yes</td>\n",
       "    </tr>\n",
       "    <tr>\n",
       "      <th>warranty</th>\n",
       "      <td>NaN</td>\n",
       "      <td>NaN</td>\n",
       "      <td>NaN</td>\n",
       "    </tr>\n",
       "    <tr>\n",
       "      <th>full_service</th>\n",
       "      <td>NaN</td>\n",
       "      <td>NaN</td>\n",
       "      <td>4 (Green)</td>\n",
       "    </tr>\n",
       "    <tr>\n",
       "      <th>non_smoking_vehicle</th>\n",
       "      <td>NaN</td>\n",
       "      <td>108 g CO2/km (comb)</td>\n",
       "      <td>NaN</td>\n",
       "    </tr>\n",
       "    <tr>\n",
       "      <th>null</th>\n",
       "      <td>[]</td>\n",
       "      <td>[]</td>\n",
       "      <td>[]</td>\n",
       "    </tr>\n",
       "    <tr>\n",
       "      <th>make</th>\n",
       "      <td>Audi</td>\n",
       "      <td>Audi</td>\n",
       "      <td>Renault</td>\n",
       "    </tr>\n",
       "    <tr>\n",
       "      <th>model</th>\n",
       "      <td>A3</td>\n",
       "      <td>A1</td>\n",
       "      <td>Clio</td>\n",
       "    </tr>\n",
       "    <tr>\n",
       "      <th>offer_number</th>\n",
       "      <td>4265</td>\n",
       "      <td>GJV516</td>\n",
       "      <td>03677 DOM</td>\n",
       "    </tr>\n",
       "    <tr>\n",
       "      <th>first_registration</th>\n",
       "      <td>2017.0</td>\n",
       "      <td>NaN</td>\n",
       "      <td>2016.0</td>\n",
       "    </tr>\n",
       "    <tr>\n",
       "      <th>body_color</th>\n",
       "      <td>Grey</td>\n",
       "      <td>Blue</td>\n",
       "      <td>Black</td>\n",
       "    </tr>\n",
       "    <tr>\n",
       "      <th>paint_type</th>\n",
       "      <td>Metallic</td>\n",
       "      <td>Metallic</td>\n",
       "      <td>Metallic</td>\n",
       "    </tr>\n",
       "    <tr>\n",
       "      <th>body_color_original</th>\n",
       "      <td>Grigio monsone</td>\n",
       "      <td>firmamentblau metallic mythoss</td>\n",
       "      <td>STERNEN-SCHWARZ</td>\n",
       "    </tr>\n",
       "    <tr>\n",
       "      <th>upholstery</th>\n",
       "      <td>Other, Black</td>\n",
       "      <td>Cloth, Black</td>\n",
       "      <td>Cloth, Other</td>\n",
       "    </tr>\n",
       "    <tr>\n",
       "      <th>body</th>\n",
       "      <td>Sedans</td>\n",
       "      <td>Compact</td>\n",
       "      <td>Station wagon</td>\n",
       "    </tr>\n",
       "    <tr>\n",
       "      <th>nr_of_doors</th>\n",
       "      <td>5.0</td>\n",
       "      <td>4.0</td>\n",
       "      <td>4.0</td>\n",
       "    </tr>\n",
       "    <tr>\n",
       "      <th>nr_of_seats</th>\n",
       "      <td>5.0</td>\n",
       "      <td>5.0</td>\n",
       "      <td>5.0</td>\n",
       "    </tr>\n",
       "    <tr>\n",
       "      <th>model_code</th>\n",
       "      <td>NaN</td>\n",
       "      <td>0588/BNO</td>\n",
       "      <td>NaN</td>\n",
       "    </tr>\n",
       "    <tr>\n",
       "      <th>gearing_type</th>\n",
       "      <td>Automatic</td>\n",
       "      <td>Manual</td>\n",
       "      <td>Automatic</td>\n",
       "    </tr>\n",
       "    <tr>\n",
       "      <th>displacement</th>\n",
       "      <td>1598.0</td>\n",
       "      <td>999.0</td>\n",
       "      <td>1197.0</td>\n",
       "    </tr>\n",
       "    <tr>\n",
       "      <th>cylinders</th>\n",
       "      <td>4.0</td>\n",
       "      <td>NaN</td>\n",
       "      <td>NaN</td>\n",
       "    </tr>\n",
       "    <tr>\n",
       "      <th>weight</th>\n",
       "      <td>NaN</td>\n",
       "      <td>NaN</td>\n",
       "      <td>NaN</td>\n",
       "    </tr>\n",
       "    <tr>\n",
       "      <th>drive_chain</th>\n",
       "      <td>front</td>\n",
       "      <td>front</td>\n",
       "      <td>NaN</td>\n",
       "    </tr>\n",
       "    <tr>\n",
       "      <th>fuel</th>\n",
       "      <td>Diesel</td>\n",
       "      <td>Benzine</td>\n",
       "      <td>Benzine</td>\n",
       "    </tr>\n",
       "    <tr>\n",
       "      <th>consumption</th>\n",
       "      <td>[['3.9 l/100 km (comb)'], ['4.1 l/100 km (city...</td>\n",
       "      <td>[['4.8 l/100 km (comb)'], ['5.9 l/100 km (city...</td>\n",
       "      <td>[['5.2 l/100 km (comb)'], ['6.6 l/100 km (city...</td>\n",
       "    </tr>\n",
       "    <tr>\n",
       "      <th>co_2_emission</th>\n",
       "      <td>103</td>\n",
       "      <td>108</td>\n",
       "      <td>123</td>\n",
       "    </tr>\n",
       "    <tr>\n",
       "      <th>emission_class</th>\n",
       "      <td>Euro 6</td>\n",
       "      <td>Euro 6d-TEMP</td>\n",
       "      <td>Euro 6</td>\n",
       "    </tr>\n",
       "    <tr>\n",
       "      <th>comfort_&amp;_convenience</th>\n",
       "      <td>Air conditioning,Armrest,Automatic climate con...</td>\n",
       "      <td>Air conditioning,Automatic climate control,Ele...</td>\n",
       "      <td>Air conditioning,Armrest,Cruise control,Electr...</td>\n",
       "    </tr>\n",
       "    <tr>\n",
       "      <th>entertainment_&amp;_media</th>\n",
       "      <td>Bluetooth,CD player,Hands-free equipment,MP3,O...</td>\n",
       "      <td>Bluetooth,Hands-free equipment,MP3,On-board co...</td>\n",
       "      <td>Bluetooth,Digital radio,Hands-free equipment,O...</td>\n",
       "    </tr>\n",
       "    <tr>\n",
       "      <th>extras</th>\n",
       "      <td>Alloy wheels</td>\n",
       "      <td>Alloy wheels,Voice Control</td>\n",
       "      <td>Alloy wheels,Roof rack,Touch screen,Voice Control</td>\n",
       "    </tr>\n",
       "    <tr>\n",
       "      <th>safety_&amp;_security</th>\n",
       "      <td>ABS,Central door lock,Daytime running lights,D...</td>\n",
       "      <td>ABS,Central door lock,Daytime running lights,D...</td>\n",
       "      <td>ABS,Central door lock,Daytime running lights,D...</td>\n",
       "    </tr>\n",
       "    <tr>\n",
       "      <th>description</th>\n",
       "      <td>['\\nOFFERTA N. 4265', 'VETTURA AZIENDALE UFFIC...</td>\n",
       "      <td>['\\n', 'Fahrzeug-Nummer: GJV516', ' ', 'C02-Ef...</td>\n",
       "      <td>['\\n', 'zusätzlich enthaltene Aussttatungen / ...</td>\n",
       "    </tr>\n",
       "    <tr>\n",
       "      <th>emission_label</th>\n",
       "      <td>No</td>\n",
       "      <td>Green</td>\n",
       "      <td>NaN</td>\n",
       "    </tr>\n",
       "    <tr>\n",
       "      <th>gears</th>\n",
       "      <td>7.0</td>\n",
       "      <td>NaN</td>\n",
       "      <td>NaN</td>\n",
       "    </tr>\n",
       "    <tr>\n",
       "      <th>country_version</th>\n",
       "      <td>NaN</td>\n",
       "      <td>NaN</td>\n",
       "      <td>Germany</td>\n",
       "    </tr>\n",
       "    <tr>\n",
       "      <th>electricity_consumption</th>\n",
       "      <td>NaN</td>\n",
       "      <td>NaN</td>\n",
       "      <td>NaN</td>\n",
       "    </tr>\n",
       "    <tr>\n",
       "      <th>last_service_date</th>\n",
       "      <td>NaN</td>\n",
       "      <td>NaN</td>\n",
       "      <td>NaN</td>\n",
       "    </tr>\n",
       "    <tr>\n",
       "      <th>other_fuel_types</th>\n",
       "      <td>NaN</td>\n",
       "      <td>NaN</td>\n",
       "      <td>NaN</td>\n",
       "    </tr>\n",
       "    <tr>\n",
       "      <th>availability</th>\n",
       "      <td>NaN</td>\n",
       "      <td>NaN</td>\n",
       "      <td>NaN</td>\n",
       "    </tr>\n",
       "    <tr>\n",
       "      <th>last_timing_belt_service_date</th>\n",
       "      <td>NaN</td>\n",
       "      <td>NaN</td>\n",
       "      <td>NaN</td>\n",
       "    </tr>\n",
       "    <tr>\n",
       "      <th>available_from</th>\n",
       "      <td>NaN</td>\n",
       "      <td>NaN</td>\n",
       "      <td>NaN</td>\n",
       "    </tr>\n",
       "    <tr>\n",
       "      <th>age</th>\n",
       "      <td>3.0</td>\n",
       "      <td>NaN</td>\n",
       "      <td>4.0</td>\n",
       "    </tr>\n",
       "    <tr>\n",
       "      <th>consumption_country</th>\n",
       "      <td>3.7</td>\n",
       "      <td>4.1</td>\n",
       "      <td>4.4</td>\n",
       "    </tr>\n",
       "    <tr>\n",
       "      <th>consumption_city</th>\n",
       "      <td>4.1</td>\n",
       "      <td>5.9</td>\n",
       "      <td>6.6</td>\n",
       "    </tr>\n",
       "    <tr>\n",
       "      <th>consumption_comb</th>\n",
       "      <td>3.9</td>\n",
       "      <td>4.8</td>\n",
       "      <td>5.2</td>\n",
       "    </tr>\n",
       "  </tbody>\n",
       "</table>\n",
       "</div>"
      ],
      "text/plain": [
       "                                                                           3925   \\\n",
       "url                            https://www.autoscout24.com//offers/audi-a3-sp...   \n",
       "make_model                                                               Audi A3   \n",
       "short_description                       Sportback 1.6 TDI 116 CV S tronic Design   \n",
       "body_type                                                                 Sedans   \n",
       "price                                                                      20900   \n",
       "vat                                                               VAT deductible   \n",
       "km                                                                       42270.0   \n",
       "registration                                                          2017-05-01   \n",
       "prev_owner                                                                   NaN   \n",
       "k_w                                                                          NaN   \n",
       "hp                                                                          85.0   \n",
       "type                                                                        Used   \n",
       "previous_owners                                                              NaN   \n",
       "next_inspection                                                              NaN   \n",
       "inspection_new                                                               NaN   \n",
       "warranty                                                                     NaN   \n",
       "full_service                                                                 NaN   \n",
       "non_smoking_vehicle                                                          NaN   \n",
       "null                                                                          []   \n",
       "make                                                                        Audi   \n",
       "model                                                                         A3   \n",
       "offer_number                                                                4265   \n",
       "first_registration                                                        2017.0   \n",
       "body_color                                                                  Grey   \n",
       "paint_type                                                              Metallic   \n",
       "body_color_original                                               Grigio monsone   \n",
       "upholstery                                                          Other, Black   \n",
       "body                                                                      Sedans   \n",
       "nr_of_doors                                                                  5.0   \n",
       "nr_of_seats                                                                  5.0   \n",
       "model_code                                                                   NaN   \n",
       "gearing_type                                                           Automatic   \n",
       "displacement                                                              1598.0   \n",
       "cylinders                                                                    4.0   \n",
       "weight                                                                       NaN   \n",
       "drive_chain                                                                front   \n",
       "fuel                                                                      Diesel   \n",
       "consumption                    [['3.9 l/100 km (comb)'], ['4.1 l/100 km (city...   \n",
       "co_2_emission                                                                103   \n",
       "emission_class                                                            Euro 6   \n",
       "comfort_&_convenience          Air conditioning,Armrest,Automatic climate con...   \n",
       "entertainment_&_media          Bluetooth,CD player,Hands-free equipment,MP3,O...   \n",
       "extras                                                              Alloy wheels   \n",
       "safety_&_security              ABS,Central door lock,Daytime running lights,D...   \n",
       "description                    ['\\nOFFERTA N. 4265', 'VETTURA AZIENDALE UFFIC...   \n",
       "emission_label                                                                No   \n",
       "gears                                                                        7.0   \n",
       "country_version                                                              NaN   \n",
       "electricity_consumption                                                      NaN   \n",
       "last_service_date                                                            NaN   \n",
       "other_fuel_types                                                             NaN   \n",
       "availability                                                                 NaN   \n",
       "last_timing_belt_service_date                                                NaN   \n",
       "available_from                                                               NaN   \n",
       "age                                                                          3.0   \n",
       "consumption_country                                                          3.7   \n",
       "consumption_city                                                             4.1   \n",
       "consumption_comb                                                             3.9   \n",
       "\n",
       "                                                                           2470   \\\n",
       "url                            https://www.autoscout24.com//offers/audi-a1-sp...   \n",
       "make_model                                                               Audi A1   \n",
       "short_description                  Sportback 30 TFSI Klimaautom,Infotainm.,Navi.   \n",
       "body_type                                                                Compact   \n",
       "price                                                                      22959   \n",
       "vat                                                               VAT deductible   \n",
       "km                                                                           NaN   \n",
       "registration                                                                 NaN   \n",
       "prev_owner                                                                   NaN   \n",
       "k_w                                                                          NaN   \n",
       "hp                                                                          85.0   \n",
       "type                                                                         New   \n",
       "previous_owners                                                              NaN   \n",
       "next_inspection                                                              NaN   \n",
       "inspection_new                                                               NaN   \n",
       "warranty                                                                     NaN   \n",
       "full_service                                                                 NaN   \n",
       "non_smoking_vehicle                                          108 g CO2/km (comb)   \n",
       "null                                                                          []   \n",
       "make                                                                        Audi   \n",
       "model                                                                         A1   \n",
       "offer_number                                                              GJV516   \n",
       "first_registration                                                           NaN   \n",
       "body_color                                                                  Blue   \n",
       "paint_type                                                              Metallic   \n",
       "body_color_original                               firmamentblau metallic mythoss   \n",
       "upholstery                                                          Cloth, Black   \n",
       "body                                                                     Compact   \n",
       "nr_of_doors                                                                  4.0   \n",
       "nr_of_seats                                                                  5.0   \n",
       "model_code                                                              0588/BNO   \n",
       "gearing_type                                                              Manual   \n",
       "displacement                                                               999.0   \n",
       "cylinders                                                                    NaN   \n",
       "weight                                                                       NaN   \n",
       "drive_chain                                                                front   \n",
       "fuel                                                                     Benzine   \n",
       "consumption                    [['4.8 l/100 km (comb)'], ['5.9 l/100 km (city...   \n",
       "co_2_emission                                                                108   \n",
       "emission_class                                                      Euro 6d-TEMP   \n",
       "comfort_&_convenience          Air conditioning,Automatic climate control,Ele...   \n",
       "entertainment_&_media          Bluetooth,Hands-free equipment,MP3,On-board co...   \n",
       "extras                                                Alloy wheels,Voice Control   \n",
       "safety_&_security              ABS,Central door lock,Daytime running lights,D...   \n",
       "description                    ['\\n', 'Fahrzeug-Nummer: GJV516', ' ', 'C02-Ef...   \n",
       "emission_label                                                             Green   \n",
       "gears                                                                        NaN   \n",
       "country_version                                                              NaN   \n",
       "electricity_consumption                                                      NaN   \n",
       "last_service_date                                                            NaN   \n",
       "other_fuel_types                                                             NaN   \n",
       "availability                                                                 NaN   \n",
       "last_timing_belt_service_date                                                NaN   \n",
       "available_from                                                               NaN   \n",
       "age                                                                          NaN   \n",
       "consumption_country                                                          4.1   \n",
       "consumption_city                                                             5.9   \n",
       "consumption_comb                                                             4.8   \n",
       "\n",
       "                                                                           13238  \n",
       "url                            https://www.autoscout24.com//offers/renault-cl...  \n",
       "make_model                                                          Renault Clio  \n",
       "short_description                     IV Grandtour Luxe ENERGY / Navigation / WR  \n",
       "body_type                                                          Station wagon  \n",
       "price                                                                      13995  \n",
       "vat                                                                          NaN  \n",
       "km                                                                       35661.0  \n",
       "registration                                                          2016-03-01  \n",
       "prev_owner                                                                   1.0  \n",
       "k_w                                                                          NaN  \n",
       "hp                                                                          88.0  \n",
       "type                                                                        Used  \n",
       "previous_owners                                                              1.0  \n",
       "next_inspection                                                              NaN  \n",
       "inspection_new                                                               Yes  \n",
       "warranty                                                                     NaN  \n",
       "full_service                                                           4 (Green)  \n",
       "non_smoking_vehicle                                                          NaN  \n",
       "null                                                                          []  \n",
       "make                                                                     Renault  \n",
       "model                                                                       Clio  \n",
       "offer_number                                                           03677 DOM  \n",
       "first_registration                                                        2016.0  \n",
       "body_color                                                                 Black  \n",
       "paint_type                                                              Metallic  \n",
       "body_color_original                                              STERNEN-SCHWARZ  \n",
       "upholstery                                                          Cloth, Other  \n",
       "body                                                               Station wagon  \n",
       "nr_of_doors                                                                  4.0  \n",
       "nr_of_seats                                                                  5.0  \n",
       "model_code                                                                   NaN  \n",
       "gearing_type                                                           Automatic  \n",
       "displacement                                                              1197.0  \n",
       "cylinders                                                                    NaN  \n",
       "weight                                                                       NaN  \n",
       "drive_chain                                                                  NaN  \n",
       "fuel                                                                     Benzine  \n",
       "consumption                    [['5.2 l/100 km (comb)'], ['6.6 l/100 km (city...  \n",
       "co_2_emission                                                                123  \n",
       "emission_class                                                            Euro 6  \n",
       "comfort_&_convenience          Air conditioning,Armrest,Cruise control,Electr...  \n",
       "entertainment_&_media          Bluetooth,Digital radio,Hands-free equipment,O...  \n",
       "extras                         Alloy wheels,Roof rack,Touch screen,Voice Control  \n",
       "safety_&_security              ABS,Central door lock,Daytime running lights,D...  \n",
       "description                    ['\\n', 'zusätzlich enthaltene Aussttatungen / ...  \n",
       "emission_label                                                               NaN  \n",
       "gears                                                                        NaN  \n",
       "country_version                                                          Germany  \n",
       "electricity_consumption                                                      NaN  \n",
       "last_service_date                                                            NaN  \n",
       "other_fuel_types                                                             NaN  \n",
       "availability                                                                 NaN  \n",
       "last_timing_belt_service_date                                                NaN  \n",
       "available_from                                                               NaN  \n",
       "age                                                                          4.0  \n",
       "consumption_country                                                          4.4  \n",
       "consumption_city                                                             6.6  \n",
       "consumption_comb                                                             5.2  "
      ]
     },
     "execution_count": 2,
     "metadata": {},
     "output_type": "execute_result"
    }
   ],
   "source": [
    "scout_car = pd.read_csv('cleardata.csv')\n",
    "df = scout_car.copy()\n",
    "df.sample(3).T"
   ]
  },
  {
   "cell_type": "markdown",
   "metadata": {},
   "source": [
    "## First Drop"
   ]
  },
  {
   "cell_type": "code",
   "execution_count": 3,
   "metadata": {},
   "outputs": [
    {
     "data": {
      "text/plain": [
       "Index(['url', 'make_model', 'short_description', 'body_type', 'price', 'vat',\n",
       "       'km', 'registration', 'prev_owner', 'k_w', 'hp', 'type',\n",
       "       'previous_owners', 'next_inspection', 'inspection_new', 'warranty',\n",
       "       'full_service', 'non_smoking_vehicle', 'null', 'make', 'model',\n",
       "       'offer_number', 'first_registration', 'body_color', 'paint_type',\n",
       "       'body_color_original', 'upholstery', 'body', 'nr_of_doors',\n",
       "       'nr_of_seats', 'model_code', 'gearing_type', 'displacement',\n",
       "       'cylinders', 'weight', 'drive_chain', 'fuel', 'consumption',\n",
       "       'co_2_emission', 'emission_class', 'comfort_&_convenience',\n",
       "       'entertainment_&_media', 'extras', 'safety_&_security', 'description',\n",
       "       'emission_label', 'gears', 'country_version', 'electricity_consumption',\n",
       "       'last_service_date', 'other_fuel_types', 'availability',\n",
       "       'last_timing_belt_service_date', 'available_from', 'age',\n",
       "       'consumption_country', 'consumption_city', 'consumption_comb'],\n",
       "      dtype='object')"
      ]
     },
     "execution_count": 3,
     "metadata": {},
     "output_type": "execute_result"
    }
   ],
   "source": [
    "df.columns"
   ]
  },
  {
   "cell_type": "code",
   "execution_count": 4,
   "metadata": {},
   "outputs": [
    {
     "data": {
      "text/plain": [
       "url                                0.000000\n",
       "make_model                         0.000000\n",
       "short_description                  0.288963\n",
       "body_type                          0.376908\n",
       "price                              0.000000\n",
       "vat                               28.349771\n",
       "km                                 6.432565\n",
       "registration                      10.032037\n",
       "prev_owner                        42.892141\n",
       "k_w                              100.000000\n",
       "hp                                 0.552799\n",
       "type                               0.012564\n",
       "previous_owners                   41.711163\n",
       "next_inspection                   82.253910\n",
       "inspection_new                    77.573968\n",
       "warranty                          82.436083\n",
       "full_service                      61.115648\n",
       "non_smoking_vehicle               78.365475\n",
       "null                               0.000000\n",
       "make                               0.000000\n",
       "model                              0.000000\n",
       "offer_number                      19.944720\n",
       "first_registration                10.032037\n",
       "body_color                         3.750236\n",
       "paint_type                        36.258559\n",
       "body_color_original               23.707519\n",
       "upholstery                        23.368302\n",
       "body                               0.376908\n",
       "nr_of_doors                        1.331742\n",
       "nr_of_seats                        6.137320\n",
       "model_code                        68.729192\n",
       "gearing_type                       0.000000\n",
       "displacement                       3.115774\n",
       "cylinders                         35.680633\n",
       "weight                            43.809285\n",
       "drive_chain                       43.080596\n",
       "fuel                               0.000000\n",
       "consumption                       11.973114\n",
       "co_2_emission                     15.302469\n",
       "emission_class                    22.790376\n",
       "comfort_&_convenience              5.779257\n",
       "entertainment_&_media              8.631195\n",
       "extras                            18.606696\n",
       "safety_&_security                  6.168729\n",
       "description                        0.000000\n",
       "emission_label                    75.218293\n",
       "gears                             29.599849\n",
       "country_version                   52.346253\n",
       "electricity_consumption           99.139393\n",
       "last_service_date                 96.444500\n",
       "other_fuel_types                  94.472015\n",
       "availability                      96.011056\n",
       "last_timing_belt_service_date     99.899491\n",
       "available_from                    98.291350\n",
       "age                               10.032037\n",
       "consumption_country               20.177147\n",
       "consumption_city                  15.214524\n",
       "consumption_comb                  18.110434\n",
       "dtype: float64"
      ]
     },
     "execution_count": 4,
     "metadata": {},
     "output_type": "execute_result"
    }
   ],
   "source": [
    "df.isnull().sum()*100/df.shape[0]"
   ]
  },
  {
   "cell_type": "code",
   "execution_count": 5,
   "metadata": {},
   "outputs": [],
   "source": [
    "first_drop = ['availability','available_from','electricity_consumption','last_service_date','last_timing_belt_service_date',\n",
    "         'other_fuel_types','k_w',\"url\",\"null\"]"
   ]
  },
  {
   "cell_type": "code",
   "execution_count": 6,
   "metadata": {},
   "outputs": [],
   "source": [
    "df.drop(first_drop, axis=1, inplace=True)"
   ]
  },
  {
   "cell_type": "code",
   "execution_count": 7,
   "metadata": {},
   "outputs": [
    {
     "data": {
      "text/plain": [
       "make_model                0.000000\n",
       "short_description         0.288963\n",
       "body_type                 0.376908\n",
       "price                     0.000000\n",
       "vat                      28.349771\n",
       "km                        6.432565\n",
       "registration             10.032037\n",
       "prev_owner               42.892141\n",
       "hp                        0.552799\n",
       "type                      0.012564\n",
       "previous_owners          41.711163\n",
       "next_inspection          82.253910\n",
       "inspection_new           77.573968\n",
       "warranty                 82.436083\n",
       "full_service             61.115648\n",
       "non_smoking_vehicle      78.365475\n",
       "make                      0.000000\n",
       "model                     0.000000\n",
       "offer_number             19.944720\n",
       "first_registration       10.032037\n",
       "body_color                3.750236\n",
       "paint_type               36.258559\n",
       "body_color_original      23.707519\n",
       "upholstery               23.368302\n",
       "body                      0.376908\n",
       "nr_of_doors               1.331742\n",
       "nr_of_seats               6.137320\n",
       "model_code               68.729192\n",
       "gearing_type              0.000000\n",
       "displacement              3.115774\n",
       "cylinders                35.680633\n",
       "weight                   43.809285\n",
       "drive_chain              43.080596\n",
       "fuel                      0.000000\n",
       "consumption              11.973114\n",
       "co_2_emission            15.302469\n",
       "emission_class           22.790376\n",
       "comfort_&_convenience     5.779257\n",
       "entertainment_&_media     8.631195\n",
       "extras                   18.606696\n",
       "safety_&_security         6.168729\n",
       "description               0.000000\n",
       "emission_label           75.218293\n",
       "gears                    29.599849\n",
       "country_version          52.346253\n",
       "age                      10.032037\n",
       "consumption_country      20.177147\n",
       "consumption_city         15.214524\n",
       "consumption_comb         18.110434\n",
       "dtype: float64"
      ]
     },
     "execution_count": 7,
     "metadata": {},
     "output_type": "execute_result"
    }
   ],
   "source": [
    "df.isnull().sum()*100/df.shape[0]"
   ]
  },
  {
   "cell_type": "markdown",
   "metadata": {},
   "source": [
    "## Age"
   ]
  },
  {
   "cell_type": "code",
   "execution_count": 8,
   "metadata": {},
   "outputs": [
    {
     "data": {
      "text/plain": [
       "2.0    4522\n",
       "4.0    3674\n",
       "3.0    3273\n",
       "1.0    2853\n",
       "NaN    1597\n",
       "Name: age, dtype: int64"
      ]
     },
     "execution_count": 8,
     "metadata": {},
     "output_type": "execute_result"
    }
   ],
   "source": [
    "df.age.value_counts(dropna = False)"
   ]
  },
  {
   "cell_type": "code",
   "execution_count": 9,
   "metadata": {},
   "outputs": [],
   "source": [
    "df.age.fillna(1, inplace = True)"
   ]
  },
  {
   "cell_type": "code",
   "execution_count": 10,
   "metadata": {},
   "outputs": [
    {
     "data": {
      "text/plain": [
       "2.0    4522\n",
       "1.0    4450\n",
       "4.0    3674\n",
       "3.0    3273\n",
       "Name: age, dtype: int64"
      ]
     },
     "execution_count": 10,
     "metadata": {},
     "output_type": "execute_result"
    }
   ],
   "source": [
    "df.age.value_counts(dropna = False)"
   ]
  },
  {
   "cell_type": "code",
   "execution_count": null,
   "metadata": {},
   "outputs": [],
   "source": []
  },
  {
   "cell_type": "code",
   "execution_count": null,
   "metadata": {},
   "outputs": [],
   "source": []
  },
  {
   "cell_type": "markdown",
   "metadata": {},
   "source": [
    "## body_type vs body"
   ]
  },
  {
   "cell_type": "code",
   "execution_count": 11,
   "metadata": {},
   "outputs": [
    {
     "data": {
      "text/plain": [
       "Sedans           7903\n",
       "Station wagon    3553\n",
       "Compact          3153\n",
       "Van               783\n",
       "Other             290\n",
       "Transporter        88\n",
       "NaN                60\n",
       "Off-Road           56\n",
       "Coupe              25\n",
       "Convertible         8\n",
       "Name: body_type, dtype: int64"
      ]
     },
     "execution_count": 11,
     "metadata": {},
     "output_type": "execute_result"
    }
   ],
   "source": [
    "df.body_type.value_counts(dropna = False)\n"
   ]
  },
  {
   "cell_type": "code",
   "execution_count": 12,
   "metadata": {},
   "outputs": [
    {
     "data": {
      "text/plain": [
       "60"
      ]
     },
     "execution_count": 12,
     "metadata": {},
     "output_type": "execute_result"
    }
   ],
   "source": [
    "df[\"body_type\"].isnull().sum()"
   ]
  },
  {
   "cell_type": "code",
   "execution_count": 13,
   "metadata": {},
   "outputs": [
    {
     "data": {
      "text/plain": [
       "make_model      body_type    \n",
       "Audi A1         Sedans           1538\n",
       "                Compact          1039\n",
       "                Station wagon      21\n",
       "                Other              13\n",
       "                Coupe               2\n",
       "                Van                 1\n",
       "Audi A2         Off-Road            1\n",
       "Audi A3         Sedans           2598\n",
       "                Station wagon     282\n",
       "                Compact           182\n",
       "                Other              16\n",
       "                Convertible         8\n",
       "                NaN                 7\n",
       "                Coupe               4\n",
       "Opel Astra      Station wagon    1211\n",
       "                Sedans           1053\n",
       "                Compact           185\n",
       "                Other              67\n",
       "                NaN                 7\n",
       "                Coupe               2\n",
       "                Off-Road            1\n",
       "Opel Corsa      Compact          1230\n",
       "                Sedans            875\n",
       "                Other              87\n",
       "                Coupe              13\n",
       "                Transporter         7\n",
       "                Off-Road            3\n",
       "                NaN                 2\n",
       "                Van                 2\n",
       "Opel Insignia   Station wagon    1611\n",
       "                Sedans            900\n",
       "                Other              48\n",
       "                Compact            27\n",
       "                Off-Road            7\n",
       "                NaN                 3\n",
       "                Coupe               1\n",
       "                Van                 1\n",
       "Renault Clio    Sedans            918\n",
       "                Compact           484\n",
       "                Station wagon     337\n",
       "                Other              51\n",
       "                Transporter        29\n",
       "                NaN                15\n",
       "                Off-Road            2\n",
       "                Van                 2\n",
       "                Coupe               1\n",
       "Renault Duster  Off-Road           34\n",
       "Renault Espace  Van               777\n",
       "                Station wagon      91\n",
       "                Transporter        52\n",
       "                NaN                26\n",
       "                Sedans             21\n",
       "                Off-Road            8\n",
       "                Other               8\n",
       "                Compact             6\n",
       "                Coupe               2\n",
       "Name: body_type, dtype: int64"
      ]
     },
     "execution_count": 13,
     "metadata": {},
     "output_type": "execute_result"
    }
   ],
   "source": [
    "df.groupby(\"make_model\")[\"body_type\"].value_counts(dropna = False)"
   ]
  },
  {
   "cell_type": "code",
   "execution_count": 14,
   "metadata": {},
   "outputs": [],
   "source": [
    "def fill_most(df, group_col, col_name):\n",
    "    for group in list(df[group_col].unique()) :\n",
    "        cond = df[group_col] == group\n",
    "        mode = list(df[cond][col_name].mode())\n",
    "        if mode != [] :\n",
    "            df.loc[cond,col_name] = df.loc[cond,col_name].fillna(df[cond][col_name].mode()[0])\n",
    "        else :\n",
    "            df.loc[cond,col_name] = df.loc[cond,col_name].fillna(df[col_name].mode()[0])"
   ]
  },
  {
   "cell_type": "code",
   "execution_count": 15,
   "metadata": {},
   "outputs": [],
   "source": [
    "def fill_most2(df, col1, col2, x):#x dolduracagimiz colum col1 col2 gruplayacagimiz columlar,\n",
    "    for g1 in list(df[col1].unique()):#g1 i col1 iicnde dolastiyor unique degerleri dolasiyor\n",
    "        for g2 in list(df[col2].unique()):#g2 i col2 iicnde dolastiyor unique degerleri dolasiyor\n",
    "            cond1 = df[col1] == g1#burda coolum birden gelen unique degerlerini buluyor ve col1==g1 ise  cond1 e atiyor liste halinde \n",
    "            cond2 = df[col2] == g2#burda coolum birden gelen unique degerlerini buluyor ve col2==g2 ise  cond2 e atiyor liste halinde \n",
    "            mode = list(df[cond1&cond2][x].mode())\n",
    "            if mode != [] :\n",
    "                df.loc[cond1&cond2, x] = df.loc[cond1&cond2, x].fillna(df[cond1&cond2][x].mode()[0])#ilk df ksminda atama yapiyor, \n",
    "                                                                   #ikinci df x i con1 cond2 ye gore grupla bak, \n",
    "                                                                   #filnali kisimda ise cond1 cond2 ye baktin bunlarin bos oldugu yere bunlarin modunu doldur\n",
    "            else:# try de uyguladigin calismaz ise bunu calistir diy0r\n",
    "                df.loc[cond1, x] = df.loc[cond1, x].fillna(df[cond1][x].mode()[0])# ikili gruplama bos ise cond1 ile devam et onun modu ile doldur :)"
   ]
  },
  {
   "cell_type": "code",
   "execution_count": 16,
   "metadata": {},
   "outputs": [],
   "source": [
    "fill_most(df, \"make_model\", \"body_type\")"
   ]
  },
  {
   "cell_type": "code",
   "execution_count": 17,
   "metadata": {},
   "outputs": [
    {
     "data": {
      "text/plain": [
       "make_model      body_type    \n",
       "Audi A1         Sedans           1538\n",
       "                Compact          1039\n",
       "                Station wagon      21\n",
       "                Other              13\n",
       "                Coupe               2\n",
       "                Van                 1\n",
       "Audi A2         Off-Road            1\n",
       "Audi A3         Sedans           2605\n",
       "                Station wagon     282\n",
       "                Compact           182\n",
       "                Other              16\n",
       "                Convertible         8\n",
       "                Coupe               4\n",
       "Opel Astra      Station wagon    1218\n",
       "                Sedans           1053\n",
       "                Compact           185\n",
       "                Other              67\n",
       "                Coupe               2\n",
       "                Off-Road            1\n",
       "Opel Corsa      Compact          1232\n",
       "                Sedans            875\n",
       "                Other              87\n",
       "                Coupe              13\n",
       "                Transporter         7\n",
       "                Off-Road            3\n",
       "                Van                 2\n",
       "Opel Insignia   Station wagon    1614\n",
       "                Sedans            900\n",
       "                Other              48\n",
       "                Compact            27\n",
       "                Off-Road            7\n",
       "                Coupe               1\n",
       "                Van                 1\n",
       "Renault Clio    Sedans            933\n",
       "                Compact           484\n",
       "                Station wagon     337\n",
       "                Other              51\n",
       "                Transporter        29\n",
       "                Off-Road            2\n",
       "                Van                 2\n",
       "                Coupe               1\n",
       "Renault Duster  Off-Road           34\n",
       "Renault Espace  Van               803\n",
       "                Station wagon      91\n",
       "                Transporter        52\n",
       "                Sedans             21\n",
       "                Off-Road            8\n",
       "                Other               8\n",
       "                Compact             6\n",
       "                Coupe               2\n",
       "Name: body_type, dtype: int64"
      ]
     },
     "execution_count": 17,
     "metadata": {},
     "output_type": "execute_result"
    }
   ],
   "source": [
    "df.groupby(\"make_model\")[\"body_type\"].value_counts(dropna = False)"
   ]
  },
  {
   "cell_type": "code",
   "execution_count": 18,
   "metadata": {},
   "outputs": [
    {
     "data": {
      "text/plain": [
       "Sedans           7925\n",
       "Station wagon    3563\n",
       "Compact          3155\n",
       "Van               809\n",
       "Other             290\n",
       "Transporter        88\n",
       "Off-Road           56\n",
       "Coupe              25\n",
       "Convertible         8\n",
       "Name: body_type, dtype: int64"
      ]
     },
     "execution_count": 18,
     "metadata": {},
     "output_type": "execute_result"
    }
   ],
   "source": [
    "df.body_type.value_counts(dropna = False)"
   ]
  },
  {
   "attachments": {
    "image.png": {
     "image/png": "[encoded data removed]"
    }
   },
   "cell_type": "markdown",
   "metadata": {},
   "source": [
    "![image.png](attachment:image.png)"
   ]
  },
  {
   "attachments": {
    "image.png": {
     "image/png": "[encoded data removed]"
    }
   },
   "cell_type": "markdown",
   "metadata": {},
   "source": [
    "![image.png](attachment:image.png)"
   ]
  },
  {
   "cell_type": "code",
   "execution_count": 19,
   "metadata": {},
   "outputs": [
    {
     "data": {
      "text/plain": [
       "Sedans           7903\n",
       "Station wagon    3553\n",
       "Compact          3153\n",
       "Van               783\n",
       "Other             290\n",
       "Transporter        88\n",
       "NaN                60\n",
       "Off-Road           56\n",
       "Coupe              25\n",
       "Convertible         8\n",
       "Name: body, dtype: int64"
      ]
     },
     "execution_count": 19,
     "metadata": {},
     "output_type": "execute_result"
    }
   ],
   "source": [
    "df[\"body\"].value_counts(dropna = False)"
   ]
  },
  {
   "cell_type": "code",
   "execution_count": 20,
   "metadata": {},
   "outputs": [],
   "source": [
    "df.drop(\"body\", axis = 1, inplace = True) ## body_type ıle benzer oldugundan drop edilmiştir."
   ]
  },
  {
   "cell_type": "code",
   "execution_count": null,
   "metadata": {},
   "outputs": [],
   "source": []
  },
  {
   "cell_type": "markdown",
   "metadata": {},
   "source": [
    "## Previous Owner vs prev_owner"
   ]
  },
  {
   "cell_type": "code",
   "execution_count": 21,
   "metadata": {},
   "outputs": [
    {
     "data": {
      "text/plain": [
       "1.0    8294\n",
       "NaN    6640\n",
       "2.0     778\n",
       "0.0     188\n",
       "3.0      17\n",
       "4.0       2\n",
       "Name: previous_owners, dtype: int64"
      ]
     },
     "execution_count": 21,
     "metadata": {},
     "output_type": "execute_result"
    }
   ],
   "source": [
    "df[\"previous_owners\"].value_counts(dropna = False)"
   ]
  },
  {
   "cell_type": "code",
   "execution_count": 22,
   "metadata": {},
   "outputs": [],
   "source": [
    "df[\"previous_owners\"]=df[\"previous_owners\"].fillna(method='bfill').fillna(method='ffill')"
   ]
  },
  {
   "cell_type": "code",
   "execution_count": 23,
   "metadata": {},
   "outputs": [
    {
     "data": {
      "text/plain": [
       "1.0    14169\n",
       "2.0     1179\n",
       "0.0      531\n",
       "3.0       38\n",
       "4.0        2\n",
       "Name: previous_owners, dtype: int64"
      ]
     },
     "execution_count": 23,
     "metadata": {},
     "output_type": "execute_result"
    }
   ],
   "source": [
    "df[\"previous_owners\"].value_counts(dropna = False)"
   ]
  },
  {
   "cell_type": "code",
   "execution_count": 24,
   "metadata": {},
   "outputs": [
    {
     "data": {
      "text/plain": [
       "Index(['make_model', 'short_description', 'body_type', 'price', 'vat', 'km',\n",
       "       'registration', 'prev_owner', 'hp', 'type', 'previous_owners',\n",
       "       'next_inspection', 'inspection_new', 'warranty', 'full_service',\n",
       "       'non_smoking_vehicle', 'make', 'model', 'offer_number',\n",
       "       'first_registration', 'body_color', 'paint_type', 'body_color_original',\n",
       "       'upholstery', 'nr_of_doors', 'nr_of_seats', 'model_code',\n",
       "       'gearing_type', 'displacement', 'cylinders', 'weight', 'drive_chain',\n",
       "       'fuel', 'consumption', 'co_2_emission', 'emission_class',\n",
       "       'comfort_&_convenience', 'entertainment_&_media', 'extras',\n",
       "       'safety_&_security', 'description', 'emission_label', 'gears',\n",
       "       'country_version', 'age', 'consumption_country', 'consumption_city',\n",
       "       'consumption_comb'],\n",
       "      dtype='object')"
      ]
     },
     "execution_count": 24,
     "metadata": {},
     "output_type": "execute_result"
    }
   ],
   "source": [
    "df.columns"
   ]
  },
  {
   "cell_type": "code",
   "execution_count": 25,
   "metadata": {},
   "outputs": [
    {
     "data": {
      "text/plain": [
       "1.0    8294\n",
       "NaN    6828\n",
       "2.0     778\n",
       "3.0      17\n",
       "4.0       2\n",
       "Name: prev_owner, dtype: int64"
      ]
     },
     "execution_count": 25,
     "metadata": {},
     "output_type": "execute_result"
    }
   ],
   "source": [
    "df[\"prev_owner\"].value_counts(dropna = False)"
   ]
  },
  {
   "cell_type": "code",
   "execution_count": 26,
   "metadata": {},
   "outputs": [
    {
     "data": {
      "text/plain": [
       "1.0    14692\n",
       "2.0     1187\n",
       "3.0       38\n",
       "4.0        2\n",
       "Name: prev_owner, dtype: int64"
      ]
     },
     "execution_count": 26,
     "metadata": {},
     "output_type": "execute_result"
    }
   ],
   "source": [
    "df[\"prev_owner\"].fillna(method='bfill').fillna(method='ffill').value_counts()"
   ]
  },
  {
   "cell_type": "markdown",
   "metadata": {},
   "source": [
    "## Second Drop"
   ]
  },
  {
   "cell_type": "code",
   "execution_count": 27,
   "metadata": {},
   "outputs": [],
   "source": [
    "## 0 araç olmadığını gösterdiği için ve previous ownere benzediğinden drop edildi. Fiyata etki etmeyen bazı stunlarında silinmesi gerektiğini karar verdıgımden drop edildi."
   ]
  },
  {
   "cell_type": "code",
   "execution_count": 28,
   "metadata": {},
   "outputs": [],
   "source": [
    "second_drop = [\"prev_owner\", 'weight','non_smoking_vehicle','full_service']"
   ]
  },
  {
   "cell_type": "code",
   "execution_count": 29,
   "metadata": {},
   "outputs": [],
   "source": [
    "df.drop(second_drop, axis=1, inplace=True)"
   ]
  },
  {
   "cell_type": "markdown",
   "metadata": {},
   "source": [
    "## comfort_&_convenience"
   ]
  },
  {
   "cell_type": "code",
   "execution_count": 30,
   "metadata": {},
   "outputs": [
    {
     "data": {
      "text/plain": [
       "NaN                                                                                                                                                                                                                                                                                                                                                                                                                                                                                                  920\n",
       "Air conditioning,Electrical side mirrors,Hill Holder,Power windows                                                                                                                                                                                                                                                                                                                                                                                                                                   216\n",
       "Air conditioning,Electrical side mirrors,Power windows                                                                                                                                                                                                                                                                                                                                                                                                                                               134\n",
       "Air conditioning,Power windows                                                                                                                                                                                                                                                                                                                                                                                                                                                                       130\n",
       "Air conditioning,Armrest,Automatic climate control,Cruise control,Electrical side mirrors,Leather steering wheel,Light sensor,Lumbar support,Multi-function steering wheel,Navigation system,Park Distance Control,Parking assist system sensors front,Parking assist system sensors rear,Power windows,Rain sensor,Seat heating,Start-stop system                                                                                                                                                   105\n",
       "                                                                                                                                                                                                                                                                                                                                                                                                                                                                                                    ... \n",
       "Air conditioning,Cruise control,Electrical side mirrors,Hill Holder,Leather steering wheel,Light sensor,Multi-function steering wheel,Navigation system,Park Distance Control,Parking assist system sensors rear,Power windows,Rain sensor,Split rear seats,Start-stop system,Tinted windows                                                                                                                                                                                                           1\n",
       "Air conditioning,Armrest,Automatic climate control,Cruise control,Electrical side mirrors,Heated steering wheel,Hill Holder,Leather steering wheel,Light sensor,Lumbar support,Multi-function steering wheel,Navigation system,Park Distance Control,Parking assist system camera,Parking assist system sensors front,Parking assist system sensors rear,Power windows,Rain sensor,Seat heating,Sunroof                                                                                                1\n",
       "Air conditioning,Armrest,Cruise control,Electrical side mirrors,Heated steering wheel,Hill Holder,Leather steering wheel,Light sensor,Multi-function steering wheel,Park Distance Control,Parking assist system camera,Parking assist system sensors front,Parking assist system sensors rear,Power windows,Rain sensor,Seat heating,Split rear seats,Start-stop system,Tinted windows                                                                                                                 1\n",
       "Air conditioning,Automatic climate control,Cruise control,Electrical side mirrors,Leather steering wheel,Light sensor,Multi-function steering wheel,Park Distance Control,Parking assist system sensors front,Parking assist system sensors rear,Power windows,Rain sensor,Seat heating                                                                                                                                                                                                                1\n",
       "Air conditioning,Automatic climate control,Cruise control,Electrically heated windshield,Electrical side mirrors,Electric tailgate,Heads-up display,Heated steering wheel,Hill Holder,Keyless central door lock,Leather steering wheel,Light sensor,Lumbar support,Navigation system,Park Distance Control,Parking assist system camera,Parking assist system self-steering,Parking assist system sensors front,Parking assist system sensors rear,Power windows,Rain sensor,Seat heating,Sunroof      1\n",
       "Name: comfort_&_convenience, Length: 6199, dtype: int64"
      ]
     },
     "execution_count": 30,
     "metadata": {},
     "output_type": "execute_result"
    }
   ],
   "source": [
    "df['comfort_&_convenience'].value_counts(dropna = False)"
   ]
  },
  {
   "cell_type": "code",
   "execution_count": 31,
   "metadata": {},
   "outputs": [
    {
     "data": {
      "text/html": [
       "<div>\n",
       "<style scoped>\n",
       "    .dataframe tbody tr th:only-of-type {\n",
       "        vertical-align: middle;\n",
       "    }\n",
       "\n",
       "    .dataframe tbody tr th {\n",
       "        vertical-align: top;\n",
       "    }\n",
       "\n",
       "    .dataframe thead th {\n",
       "        text-align: right;\n",
       "    }\n",
       "</style>\n",
       "<table border=\"1\" class=\"dataframe\">\n",
       "  <thead>\n",
       "    <tr style=\"text-align: right;\">\n",
       "      <th></th>\n",
       "      <th>count</th>\n",
       "      <th>unique</th>\n",
       "      <th>top</th>\n",
       "      <th>freq</th>\n",
       "    </tr>\n",
       "    <tr>\n",
       "      <th>make_model</th>\n",
       "      <th></th>\n",
       "      <th></th>\n",
       "      <th></th>\n",
       "      <th></th>\n",
       "    </tr>\n",
       "  </thead>\n",
       "  <tbody>\n",
       "    <tr>\n",
       "      <th>Audi A1</th>\n",
       "      <td>2532</td>\n",
       "      <td>1052</td>\n",
       "      <td>Air conditioning,Armrest,Automatic climate con...</td>\n",
       "      <td>94</td>\n",
       "    </tr>\n",
       "    <tr>\n",
       "      <th>Audi A2</th>\n",
       "      <td>1</td>\n",
       "      <td>1</td>\n",
       "      <td>Air conditioning,Armrest,Automatic climate con...</td>\n",
       "      <td>1</td>\n",
       "    </tr>\n",
       "    <tr>\n",
       "      <th>Audi A3</th>\n",
       "      <td>2996</td>\n",
       "      <td>1316</td>\n",
       "      <td>Air conditioning,Automatic climate control,Cru...</td>\n",
       "      <td>89</td>\n",
       "    </tr>\n",
       "    <tr>\n",
       "      <th>Opel Astra</th>\n",
       "      <td>2358</td>\n",
       "      <td>1211</td>\n",
       "      <td>Air conditioning,Cruise control,Electrical sid...</td>\n",
       "      <td>39</td>\n",
       "    </tr>\n",
       "    <tr>\n",
       "      <th>Opel Corsa</th>\n",
       "      <td>2046</td>\n",
       "      <td>671</td>\n",
       "      <td>Air conditioning,Electrical side mirrors,Hill ...</td>\n",
       "      <td>203</td>\n",
       "    </tr>\n",
       "    <tr>\n",
       "      <th>Opel Insignia</th>\n",
       "      <td>2397</td>\n",
       "      <td>1372</td>\n",
       "      <td>Air conditioning,Armrest,Automatic climate con...</td>\n",
       "      <td>55</td>\n",
       "    </tr>\n",
       "    <tr>\n",
       "      <th>Renault Clio</th>\n",
       "      <td>1714</td>\n",
       "      <td>684</td>\n",
       "      <td>Cruise control,Electrical side mirrors,Power w...</td>\n",
       "      <td>48</td>\n",
       "    </tr>\n",
       "    <tr>\n",
       "      <th>Renault Duster</th>\n",
       "      <td>34</td>\n",
       "      <td>3</td>\n",
       "      <td>Air conditioning,Automatic climate control</td>\n",
       "      <td>32</td>\n",
       "    </tr>\n",
       "    <tr>\n",
       "      <th>Renault Espace</th>\n",
       "      <td>921</td>\n",
       "      <td>585</td>\n",
       "      <td>Air conditioning,Armrest,Automatic climate con...</td>\n",
       "      <td>27</td>\n",
       "    </tr>\n",
       "  </tbody>\n",
       "</table>\n",
       "</div>"
      ],
      "text/plain": [
       "               count unique  \\\n",
       "make_model                    \n",
       "Audi A1         2532   1052   \n",
       "Audi A2            1      1   \n",
       "Audi A3         2996   1316   \n",
       "Opel Astra      2358   1211   \n",
       "Opel Corsa      2046    671   \n",
       "Opel Insignia   2397   1372   \n",
       "Renault Clio    1714    684   \n",
       "Renault Duster    34      3   \n",
       "Renault Espace   921    585   \n",
       "\n",
       "                                                              top freq  \n",
       "make_model                                                              \n",
       "Audi A1         Air conditioning,Armrest,Automatic climate con...   94  \n",
       "Audi A2         Air conditioning,Armrest,Automatic climate con...    1  \n",
       "Audi A3         Air conditioning,Automatic climate control,Cru...   89  \n",
       "Opel Astra      Air conditioning,Cruise control,Electrical sid...   39  \n",
       "Opel Corsa      Air conditioning,Electrical side mirrors,Hill ...  203  \n",
       "Opel Insignia   Air conditioning,Armrest,Automatic climate con...   55  \n",
       "Renault Clio    Cruise control,Electrical side mirrors,Power w...   48  \n",
       "Renault Duster         Air conditioning,Automatic climate control   32  \n",
       "Renault Espace  Air conditioning,Armrest,Automatic climate con...   27  "
      ]
     },
     "execution_count": 31,
     "metadata": {},
     "output_type": "execute_result"
    }
   ],
   "source": [
    "df.groupby(\"make_model\")[\"comfort_&_convenience\"].describe()"
   ]
  },
  {
   "cell_type": "code",
   "execution_count": 32,
   "metadata": {},
   "outputs": [],
   "source": [
    "fill_most(df, \"make_model\", \"comfort_&_convenience\")"
   ]
  },
  {
   "cell_type": "code",
   "execution_count": 33,
   "metadata": {},
   "outputs": [
    {
     "data": {
      "text/html": [
       "<div>\n",
       "<style scoped>\n",
       "    .dataframe tbody tr th:only-of-type {\n",
       "        vertical-align: middle;\n",
       "    }\n",
       "\n",
       "    .dataframe tbody tr th {\n",
       "        vertical-align: top;\n",
       "    }\n",
       "\n",
       "    .dataframe thead th {\n",
       "        text-align: right;\n",
       "    }\n",
       "</style>\n",
       "<table border=\"1\" class=\"dataframe\">\n",
       "  <thead>\n",
       "    <tr style=\"text-align: right;\">\n",
       "      <th></th>\n",
       "      <th>count</th>\n",
       "      <th>unique</th>\n",
       "      <th>top</th>\n",
       "      <th>freq</th>\n",
       "    </tr>\n",
       "    <tr>\n",
       "      <th>make_model</th>\n",
       "      <th></th>\n",
       "      <th></th>\n",
       "      <th></th>\n",
       "      <th></th>\n",
       "    </tr>\n",
       "  </thead>\n",
       "  <tbody>\n",
       "    <tr>\n",
       "      <th>Audi A1</th>\n",
       "      <td>2614</td>\n",
       "      <td>1052</td>\n",
       "      <td>Air conditioning,Armrest,Automatic climate con...</td>\n",
       "      <td>176</td>\n",
       "    </tr>\n",
       "    <tr>\n",
       "      <th>Audi A2</th>\n",
       "      <td>1</td>\n",
       "      <td>1</td>\n",
       "      <td>Air conditioning,Armrest,Automatic climate con...</td>\n",
       "      <td>1</td>\n",
       "    </tr>\n",
       "    <tr>\n",
       "      <th>Audi A3</th>\n",
       "      <td>3097</td>\n",
       "      <td>1316</td>\n",
       "      <td>Air conditioning,Automatic climate control,Cru...</td>\n",
       "      <td>190</td>\n",
       "    </tr>\n",
       "    <tr>\n",
       "      <th>Opel Astra</th>\n",
       "      <td>2526</td>\n",
       "      <td>1211</td>\n",
       "      <td>Air conditioning,Cruise control,Electrical sid...</td>\n",
       "      <td>207</td>\n",
       "    </tr>\n",
       "    <tr>\n",
       "      <th>Opel Corsa</th>\n",
       "      <td>2219</td>\n",
       "      <td>671</td>\n",
       "      <td>Air conditioning,Electrical side mirrors,Hill ...</td>\n",
       "      <td>376</td>\n",
       "    </tr>\n",
       "    <tr>\n",
       "      <th>Opel Insignia</th>\n",
       "      <td>2598</td>\n",
       "      <td>1372</td>\n",
       "      <td>Air conditioning,Armrest,Automatic climate con...</td>\n",
       "      <td>256</td>\n",
       "    </tr>\n",
       "    <tr>\n",
       "      <th>Renault Clio</th>\n",
       "      <td>1839</td>\n",
       "      <td>684</td>\n",
       "      <td>Cruise control,Electrical side mirrors,Power w...</td>\n",
       "      <td>173</td>\n",
       "    </tr>\n",
       "    <tr>\n",
       "      <th>Renault Duster</th>\n",
       "      <td>34</td>\n",
       "      <td>3</td>\n",
       "      <td>Air conditioning,Automatic climate control</td>\n",
       "      <td>32</td>\n",
       "    </tr>\n",
       "    <tr>\n",
       "      <th>Renault Espace</th>\n",
       "      <td>991</td>\n",
       "      <td>585</td>\n",
       "      <td>Air conditioning,Armrest,Automatic climate con...</td>\n",
       "      <td>97</td>\n",
       "    </tr>\n",
       "  </tbody>\n",
       "</table>\n",
       "</div>"
      ],
      "text/plain": [
       "               count unique  \\\n",
       "make_model                    \n",
       "Audi A1         2614   1052   \n",
       "Audi A2            1      1   \n",
       "Audi A3         3097   1316   \n",
       "Opel Astra      2526   1211   \n",
       "Opel Corsa      2219    671   \n",
       "Opel Insignia   2598   1372   \n",
       "Renault Clio    1839    684   \n",
       "Renault Duster    34      3   \n",
       "Renault Espace   991    585   \n",
       "\n",
       "                                                              top freq  \n",
       "make_model                                                              \n",
       "Audi A1         Air conditioning,Armrest,Automatic climate con...  176  \n",
       "Audi A2         Air conditioning,Armrest,Automatic climate con...    1  \n",
       "Audi A3         Air conditioning,Automatic climate control,Cru...  190  \n",
       "Opel Astra      Air conditioning,Cruise control,Electrical sid...  207  \n",
       "Opel Corsa      Air conditioning,Electrical side mirrors,Hill ...  376  \n",
       "Opel Insignia   Air conditioning,Armrest,Automatic climate con...  256  \n",
       "Renault Clio    Cruise control,Electrical side mirrors,Power w...  173  \n",
       "Renault Duster         Air conditioning,Automatic climate control   32  \n",
       "Renault Espace  Air conditioning,Armrest,Automatic climate con...   97  "
      ]
     },
     "execution_count": 33,
     "metadata": {},
     "output_type": "execute_result"
    }
   ],
   "source": [
    "df.groupby(\"make_model\")[\"comfort_&_convenience\"].describe()"
   ]
  },
  {
   "cell_type": "code",
   "execution_count": 34,
   "metadata": {},
   "outputs": [
    {
     "data": {
      "text/plain": [
       "Air conditioning,Electrical side mirrors,Hill Holder,Power windows                                                                                                                                                                                                                                                                                                                                                                                                                                   389\n",
       "Air conditioning,Armrest,Automatic climate control,Cruise control,Electrically adjustable seats,Electrical side mirrors,Electric tailgate,Heated steering wheel,Hill Holder,Keyless central door lock,Leather steering wheel,Light sensor,Lumbar support,Multi-function steering wheel,Navigation system,Park Distance Control,Parking assist system camera,Parking assist system sensors front,Parking assist system sensors rear,Power windows,Rain sensor,Seat heating,Start-stop system          259\n",
       "Air conditioning,Cruise control,Electrical side mirrors,Hill Holder,Light sensor,Multi-function steering wheel,Park Distance Control,Parking assist system sensors rear,Power windows,Start-stop system                                                                                                                                                                                                                                                                                              207\n",
       "Air conditioning,Automatic climate control,Cruise control,Multi-function steering wheel,Park Distance Control,Power windows                                                                                                                                                                                                                                                                                                                                                                          190\n",
       "Air conditioning,Armrest,Automatic climate control,Cruise control,Electrical side mirrors,Leather steering wheel,Light sensor,Lumbar support,Multi-function steering wheel,Navigation system,Park Distance Control,Parking assist system sensors front,Parking assist system sensors rear,Power windows,Rain sensor,Seat heating,Start-stop system                                                                                                                                                   187\n",
       "                                                                                                                                                                                                                                                                                                                                                                                                                                                                                                    ... \n",
       "Air conditioning,Cruise control,Electrical side mirrors,Multi-function steering wheel,Park Distance Control,Parking assist system sensors front,Parking assist system sensors rear,Power windows,Start-stop system                                                                                                                                                                                                                                                                                     1\n",
       "Air conditioning,Armrest,Cruise control,Electrical side mirrors,Heated steering wheel,Hill Holder,Leather steering wheel,Light sensor,Multi-function steering wheel,Park Distance Control,Parking assist system camera,Parking assist system sensors rear,Power windows,Rain sensor,Seat heating,Split rear seats,Start-stop system,Sunroof,Tinted windows                                                                                                                                             1\n",
       "Air conditioning,Armrest,Cruise control,Hill Holder,Leather steering wheel,Multi-function steering wheel,Park Distance Control,Parking assist system sensors front,Parking assist system sensors rear,Power windows                                                                                                                                                                                                                                                                                    1\n",
       "Air conditioning,Armrest,Automatic climate control,Cruise control,Electrical side mirrors,Leather steering wheel,Multi-function steering wheel,Power windows,Rain sensor,Start-stop system,Tinted windows                                                                                                                                                                                                                                                                                              1\n",
       "Air conditioning,Automatic climate control,Cruise control,Electrically heated windshield,Electrical side mirrors,Electric tailgate,Heads-up display,Heated steering wheel,Hill Holder,Keyless central door lock,Leather steering wheel,Light sensor,Lumbar support,Navigation system,Park Distance Control,Parking assist system camera,Parking assist system self-steering,Parking assist system sensors front,Parking assist system sensors rear,Power windows,Rain sensor,Seat heating,Sunroof      1\n",
       "Name: comfort_&_convenience, Length: 6198, dtype: int64"
      ]
     },
     "execution_count": 34,
     "metadata": {},
     "output_type": "execute_result"
    }
   ],
   "source": [
    "df['comfort_&_convenience'].value_counts(dropna = False)"
   ]
  },
  {
   "cell_type": "markdown",
   "metadata": {},
   "source": [
    "## Entertainment_&_Media"
   ]
  },
  {
   "cell_type": "code",
   "execution_count": 35,
   "metadata": {},
   "outputs": [
    {
     "data": {
      "text/plain": [
       "Index(['make_model', 'short_description', 'body_type', 'price', 'vat', 'km',\n",
       "       'registration', 'hp', 'type', 'previous_owners', 'next_inspection',\n",
       "       'inspection_new', 'warranty', 'make', 'model', 'offer_number',\n",
       "       'first_registration', 'body_color', 'paint_type', 'body_color_original',\n",
       "       'upholstery', 'nr_of_doors', 'nr_of_seats', 'model_code',\n",
       "       'gearing_type', 'displacement', 'cylinders', 'drive_chain', 'fuel',\n",
       "       'consumption', 'co_2_emission', 'emission_class',\n",
       "       'comfort_&_convenience', 'entertainment_&_media', 'extras',\n",
       "       'safety_&_security', 'description', 'emission_label', 'gears',\n",
       "       'country_version', 'age', 'consumption_country', 'consumption_city',\n",
       "       'consumption_comb'],\n",
       "      dtype='object')"
      ]
     },
     "execution_count": 35,
     "metadata": {},
     "output_type": "execute_result"
    }
   ],
   "source": [
    "df.columns"
   ]
  },
  {
   "cell_type": "code",
   "execution_count": 36,
   "metadata": {},
   "outputs": [
    {
     "data": {
      "text/plain": [
       "NaN                                                                                                 1374\n",
       "Bluetooth,Hands-free equipment,On-board computer,Radio,USB                                          1282\n",
       "Bluetooth,Hands-free equipment,MP3,On-board computer,Radio,USB                                       982\n",
       "Bluetooth,CD player,Hands-free equipment,MP3,On-board computer,Radio,USB                             783\n",
       "On-board computer,Radio                                                                              487\n",
       "                                                                                                    ... \n",
       "Bluetooth,CD player,Digital radio,Hands-free equipment,Radio                                           1\n",
       "CD player,Hands-free equipment,MP3,Radio,USB                                                           1\n",
       "MP3,Radio,Sound system,USB                                                                             1\n",
       "Bluetooth,MP3,On-board computer,Radio,Television,USB                                                   1\n",
       "Bluetooth,CD player,Hands-free equipment,MP3,On-board computer,Radio,Sound system,Television,USB       1\n",
       "Name: entertainment_&_media, Length: 347, dtype: int64"
      ]
     },
     "execution_count": 36,
     "metadata": {},
     "output_type": "execute_result"
    }
   ],
   "source": [
    "df['entertainment_&_media'].value_counts(dropna = False)"
   ]
  },
  {
   "cell_type": "code",
   "execution_count": 37,
   "metadata": {},
   "outputs": [],
   "source": [
    "fill_most(df, \"make_model\", \"entertainment_&_media\")"
   ]
  },
  {
   "cell_type": "code",
   "execution_count": 38,
   "metadata": {},
   "outputs": [
    {
     "data": {
      "text/plain": [
       "Bluetooth,Hands-free equipment,On-board computer,Radio,USB                      2015\n",
       "Bluetooth,Hands-free equipment,MP3,On-board computer,Radio,USB                  1206\n",
       "Bluetooth,CD player,Hands-free equipment,MP3,On-board computer,Radio,USB        1049\n",
       "Bluetooth,Hands-free equipment,On-board computer,Radio                           529\n",
       "On-board computer,Radio                                                          487\n",
       "                                                                                ... \n",
       "Bluetooth,CD player,MP3                                                            1\n",
       "CD player,USB                                                                      1\n",
       "Bluetooth,CD player,Digital radio,Radio,USB                                        1\n",
       "Bluetooth,CD player,Digital radio,MP3,On-board computer,Radio,Television,USB       1\n",
       "Hands-free equipment,On-board computer,Radio,Sound system                          1\n",
       "Name: entertainment_&_media, Length: 346, dtype: int64"
      ]
     },
     "execution_count": 38,
     "metadata": {},
     "output_type": "execute_result"
    }
   ],
   "source": [
    "df['entertainment_&_media'].value_counts(dropna = False)"
   ]
  },
  {
   "cell_type": "markdown",
   "metadata": {},
   "source": [
    "## Extras"
   ]
  },
  {
   "cell_type": "code",
   "execution_count": 39,
   "metadata": {},
   "outputs": [
    {
     "data": {
      "text/plain": [
       "Alloy wheels                                                                                               3245\n",
       "NaN                                                                                                        2962\n",
       "Alloy wheels,Touch screen                                                                                   697\n",
       "Alloy wheels,Voice Control                                                                                  577\n",
       "Alloy wheels,Touch screen,Voice Control                                                                     541\n",
       "                                                                                                           ... \n",
       "Alloy wheels,Catalytic Converter,Shift paddles,Sport package,Sport seats,Sport suspension,Voice Control       1\n",
       "Alloy wheels,Catalytic Converter,Roof rack,Sport package,Sport seats,Trailer hitch                            1\n",
       "Alloy wheels,Catalytic Converter,Ski bag,Sport package,Voice Control                                          1\n",
       "Catalytic Converter,Roof rack,Sport seats,Sport suspension                                                    1\n",
       "Alloy wheels,Shift paddles,Ski bag,Sport seats,Sport suspension,Touch screen,Voice Control                    1\n",
       "Name: extras, Length: 660, dtype: int64"
      ]
     },
     "execution_count": 39,
     "metadata": {},
     "output_type": "execute_result"
    }
   ],
   "source": [
    "df['extras'].value_counts(dropna = False)"
   ]
  },
  {
   "cell_type": "code",
   "execution_count": 40,
   "metadata": {},
   "outputs": [],
   "source": [
    "fill_most(df, \"make_model\", \"extras\")"
   ]
  },
  {
   "cell_type": "code",
   "execution_count": 41,
   "metadata": {
    "scrolled": true
   },
   "outputs": [
    {
     "data": {
      "text/plain": [
       "Alloy wheels                                                                                               6174\n",
       "Alloy wheels,Touch screen                                                                                   697\n",
       "Alloy wheels,Voice Control                                                                                  577\n",
       "Alloy wheels,Touch screen,Voice Control                                                                     541\n",
       "Alloy wheels,Roof rack                                                                                      385\n",
       "                                                                                                           ... \n",
       "Alloy wheels,Catalytic Converter,Shift paddles,Sport package,Sport seats,Sport suspension,Voice Control       1\n",
       "Alloy wheels,Catalytic Converter,Roof rack,Sport package,Sport seats,Trailer hitch                            1\n",
       "Alloy wheels,Catalytic Converter,Ski bag,Sport package,Voice Control                                          1\n",
       "Catalytic Converter,Roof rack,Sport seats,Sport suspension                                                    1\n",
       "Alloy wheels,Shift paddles,Ski bag,Sport seats,Sport suspension,Touch screen,Voice Control                    1\n",
       "Name: extras, Length: 659, dtype: int64"
      ]
     },
     "execution_count": 41,
     "metadata": {},
     "output_type": "execute_result"
    }
   ],
   "source": [
    "df['extras'].value_counts(dropna = False)"
   ]
  },
  {
   "cell_type": "markdown",
   "metadata": {},
   "source": [
    "## safety_&_security"
   ]
  },
  {
   "cell_type": "code",
   "execution_count": 42,
   "metadata": {},
   "outputs": [
    {
     "data": {
      "text/plain": [
       "NaN                                                                                                                                                                                                                                                                                                                                                               982\n",
       "ABS,Central door lock,Daytime running lights,Driver-side airbag,Electronic stability control,Fog lights,Immobilizer,Isofix,Passenger-side airbag,Power steering,Side airbag,Tire pressure monitoring system,Traction control                                                                                                                                      538\n",
       "ABS,Central door lock,Daytime running lights,Driver-side airbag,Electronic stability control,Immobilizer,Isofix,Passenger-side airbag,Power steering,Side airbag,Tire pressure monitoring system,Traction control                                                                                                                                                 480\n",
       "ABS,Central door lock,Daytime running lights,Driver-side airbag,Electronic stability control,Immobilizer,Isofix,Passenger-side airbag,Power steering,Side airbag,Tire pressure monitoring system,Traction control,Xenon headlights                                                                                                                                275\n",
       "ABS,Central door lock,Daytime running lights,Driver-side airbag,Electronic stability control,Fog lights,Immobilizer,Isofix,LED Daytime Running Lights,Passenger-side airbag,Power steering,Side airbag,Tire pressure monitoring system,Traction control                                                                                                           272\n",
       "                                                                                                                                                                                                                                                                                                                                                                 ... \n",
       "ABS,Central door lock,Electronic stability control,Immobilizer,Isofix,Passenger-side airbag,Power steering,Side airbag                                                                                                                                                                                                                                              1\n",
       "ABS,Adaptive Cruise Control,Central door lock,Daytime running lights,Driver-side airbag,Electronic stability control,Emergency brake assistant,Immobilizer,Isofix,Passenger-side airbag,Power steering,Side airbag,Tire pressure monitoring system,Traction control                                                                                                 1\n",
       "ABS,Adaptive Cruise Control,Alarm system,Central door lock,Driver-side airbag,Electronic stability control,Fog lights,Immobilizer,Isofix,Lane departure warning system,LED Daytime Running Lights,Passenger-side airbag,Power steering,Side airbag,Tire pressure monitoring system,Traction control,Xenon headlights                                                1\n",
       "ABS,Adaptive Cruise Control,Central door lock,Daytime running lights,Driver-side airbag,Electronic stability control,Fog lights,Immobilizer,Isofix,Power steering,Tire pressure monitoring system,Traction control                                                                                                                                                  1\n",
       "ABS,Adaptive Cruise Control,Central door lock,Daytime running lights,Driver-side airbag,Electronic stability control,Emergency brake assistant,Fog lights,Immobilizer,Isofix,Lane departure warning system,LED Daytime Running Lights,LED Headlights,Passenger-side airbag,Power steering,Side airbag,Tire pressure monitoring system,Traffic sign recognition      1\n",
       "Name: safety_&_security, Length: 4444, dtype: int64"
      ]
     },
     "execution_count": 42,
     "metadata": {},
     "output_type": "execute_result"
    }
   ],
   "source": [
    "df['safety_&_security'].value_counts(dropna = False)"
   ]
  },
  {
   "cell_type": "code",
   "execution_count": 43,
   "metadata": {},
   "outputs": [],
   "source": [
    "fill_most(df, \"make_model\", \"safety_&_security\")"
   ]
  },
  {
   "cell_type": "code",
   "execution_count": 44,
   "metadata": {},
   "outputs": [
    {
     "data": {
      "text/plain": [
       "ABS,Central door lock,Daytime running lights,Driver-side airbag,Electronic stability control,Fog lights,Immobilizer,Isofix,Passenger-side airbag,Power steering,Side airbag,Tire pressure monitoring system,Traction control                                                                                                                                      825\n",
       "ABS,Central door lock,Daytime running lights,Driver-side airbag,Electronic stability control,Immobilizer,Isofix,Passenger-side airbag,Power steering,Side airbag,Tire pressure monitoring system,Traction control                                                                                                                                                 480\n",
       "ABS,Central door lock,Daytime running lights,Driver-side airbag,Electronic stability control,Fog lights,Immobilizer,Isofix,LED Daytime Running Lights,Passenger-side airbag,Power steering,Side airbag,Tire pressure monitoring system,Traction control                                                                                                           452\n",
       "ABS,Central door lock,Daytime running lights,Driver-side airbag,Electronic stability control,Immobilizer,Isofix,Passenger-side airbag,Power steering,Side airbag,Tire pressure monitoring system,Traction control,Xenon headlights                                                                                                                                382\n",
       "ABS,Central door lock,Daytime running lights,Driver-side airbag,Electronic stability control,Immobilizer,Isofix,LED Daytime Running Lights,Passenger-side airbag,Power steering,Side airbag,Tire pressure monitoring system,Traction control                                                                                                                      345\n",
       "                                                                                                                                                                                                                                                                                                                                                                 ... \n",
       "ABS,Central door lock,Electronic stability control,Immobilizer,Isofix,Passenger-side airbag,Power steering,Side airbag                                                                                                                                                                                                                                              1\n",
       "ABS,Adaptive Cruise Control,Central door lock,Daytime running lights,Driver-side airbag,Electronic stability control,Emergency brake assistant,Immobilizer,Isofix,Passenger-side airbag,Power steering,Side airbag,Tire pressure monitoring system,Traction control                                                                                                 1\n",
       "ABS,Adaptive Cruise Control,Alarm system,Central door lock,Driver-side airbag,Electronic stability control,Fog lights,Immobilizer,Isofix,Lane departure warning system,LED Daytime Running Lights,Passenger-side airbag,Power steering,Side airbag,Tire pressure monitoring system,Traction control,Xenon headlights                                                1\n",
       "ABS,Adaptive Cruise Control,Central door lock,Daytime running lights,Driver-side airbag,Electronic stability control,Fog lights,Immobilizer,Isofix,Power steering,Tire pressure monitoring system,Traction control                                                                                                                                                  1\n",
       "ABS,Adaptive Cruise Control,Central door lock,Daytime running lights,Driver-side airbag,Electronic stability control,Emergency brake assistant,Fog lights,Immobilizer,Isofix,Lane departure warning system,LED Daytime Running Lights,LED Headlights,Passenger-side airbag,Power steering,Side airbag,Tire pressure monitoring system,Traffic sign recognition      1\n",
       "Name: safety_&_security, Length: 4443, dtype: int64"
      ]
     },
     "execution_count": 44,
     "metadata": {},
     "output_type": "execute_result"
    }
   ],
   "source": [
    "df['safety_&_security'].value_counts(dropna = False)"
   ]
  },
  {
   "cell_type": "markdown",
   "metadata": {},
   "source": [
    "## consumption"
   ]
  },
  {
   "cell_type": "code",
   "execution_count": 45,
   "metadata": {},
   "outputs": [
    {
     "data": {
      "text/plain": [
       "0        3.8\n",
       "1        5.6\n",
       "2        3.8\n",
       "3        3.8\n",
       "4        4.1\n",
       "        ... \n",
       "15914    5.3\n",
       "15915    NaN\n",
       "15916    5.3\n",
       "15917    5.3\n",
       "15918    6.8\n",
       "Name: consumption_comb, Length: 15919, dtype: float64"
      ]
     },
     "execution_count": 45,
     "metadata": {},
     "output_type": "execute_result"
    }
   ],
   "source": [
    "df[\"consumption_comb\"] ## bu kullanılcak fazla veriye gerek yok"
   ]
  },
  {
   "cell_type": "code",
   "execution_count": 46,
   "metadata": {},
   "outputs": [
    {
     "data": {
      "text/plain": [
       "0        4.3\n",
       "1        7.1\n",
       "2        4.4\n",
       "3        4.3\n",
       "4        4.6\n",
       "        ... \n",
       "15914    6.2\n",
       "15915    7.0\n",
       "15916    6.2\n",
       "15917    6.2\n",
       "15918    8.7\n",
       "Name: consumption_city, Length: 15919, dtype: float64"
      ]
     },
     "execution_count": 46,
     "metadata": {},
     "output_type": "execute_result"
    }
   ],
   "source": [
    "df[\"consumption_city\"]"
   ]
  },
  {
   "cell_type": "code",
   "execution_count": 47,
   "metadata": {},
   "outputs": [
    {
     "data": {
      "text/plain": [
       "0        3.5\n",
       "1        4.7\n",
       "2        3.4\n",
       "3        3.5\n",
       "4        3.8\n",
       "        ... \n",
       "15914    4.7\n",
       "15915    NaN\n",
       "15916    4.7\n",
       "15917    4.7\n",
       "15918    5.7\n",
       "Name: consumption_country, Length: 15919, dtype: float64"
      ]
     },
     "execution_count": 47,
     "metadata": {},
     "output_type": "execute_result"
    }
   ],
   "source": [
    "df[\"consumption_country\"]"
   ]
  },
  {
   "cell_type": "code",
   "execution_count": 48,
   "metadata": {},
   "outputs": [
    {
     "data": {
      "text/plain": [
       "NaN    2883\n",
       "3.9     732\n",
       "4.0     716\n",
       "5.4     663\n",
       "5.1     630\n",
       "4.4     595\n",
       "3.8     585\n",
       "5.6     568\n",
       "4.7     555\n",
       "4.8     523\n",
       "5.0     520\n",
       "4.5     511\n",
       "5.2     429\n",
       "4.6     420\n",
       "4.2     408\n",
       "5.3     375\n",
       "3.7     369\n",
       "4.9     348\n",
       "5.5     342\n",
       "4.1     341\n",
       "5.9     308\n",
       "3.3     307\n",
       "5.7     302\n",
       "4.3     295\n",
       "3.5     288\n",
       "6.0     278\n",
       "3.6     194\n",
       "6.2     184\n",
       "5.8     142\n",
       "6.3     141\n",
       "6.1     135\n",
       "6.8     134\n",
       "6.6     119\n",
       "3.4     106\n",
       "3.0      73\n",
       "6.4      64\n",
       "7.4      62\n",
       "7.1      38\n",
       "1.0      37\n",
       "6.5      36\n",
       "6.7      33\n",
       "3.2      25\n",
       "6.9      21\n",
       "8.3      20\n",
       "7.6      14\n",
       "7.0       9\n",
       "3.1       7\n",
       "7.8       6\n",
       "7.2       6\n",
       "8.0       5\n",
       "8.6       3\n",
       "8.7       3\n",
       "0.0       2\n",
       "8.1       2\n",
       "7.9       2\n",
       "7.3       2\n",
       "7.5       1\n",
       "9.1       1\n",
       "1.2       1\n",
       "Name: consumption_comb, dtype: int64"
      ]
     },
     "execution_count": 48,
     "metadata": {},
     "output_type": "execute_result"
    }
   ],
   "source": [
    "df[\"consumption_comb\"].value_counts(dropna = False)"
   ]
  },
  {
   "cell_type": "code",
   "execution_count": 49,
   "metadata": {},
   "outputs": [],
   "source": [
    "consumption_comb = (df[\"consumption_city\"]+df[\"consumption_country\"])/2"
   ]
  },
  {
   "cell_type": "code",
   "execution_count": 50,
   "metadata": {},
   "outputs": [
    {
     "data": {
      "text/plain": [
       "NaN     2775\n",
       "3.90     732\n",
       "4.00     716\n",
       "5.40     663\n",
       "5.10     630\n",
       "4.40     595\n",
       "3.80     585\n",
       "5.60     568\n",
       "4.70     560\n",
       "4.80     523\n",
       "5.00     520\n",
       "4.50     512\n",
       "5.20     429\n",
       "4.60     420\n",
       "4.20     408\n",
       "5.30     375\n",
       "3.70     369\n",
       "4.90     348\n",
       "5.50     342\n",
       "4.10     341\n",
       "5.90     308\n",
       "3.30     307\n",
       "5.70     302\n",
       "4.30     295\n",
       "3.50     288\n",
       "6.00     278\n",
       "3.60     194\n",
       "6.20     184\n",
       "5.80     143\n",
       "6.30     141\n",
       "6.10     135\n",
       "6.80     134\n",
       "3.40     125\n",
       "6.60     119\n",
       "3.00      73\n",
       "6.40      64\n",
       "7.40      62\n",
       "7.10      38\n",
       "3.60      37\n",
       "1.00      37\n",
       "6.50      36\n",
       "6.70      33\n",
       "3.20      25\n",
       "6.90      21\n",
       "3.65      20\n",
       "8.30      20\n",
       "5.15      19\n",
       "7.60      14\n",
       "7.00       9\n",
       "3.10       7\n",
       "7.20       6\n",
       "7.80       6\n",
       "8.00       5\n",
       "8.70       3\n",
       "8.60       3\n",
       "3.95       3\n",
       "7.30       2\n",
       "8.10       2\n",
       "5.45       2\n",
       "0.00       2\n",
       "7.90       2\n",
       "9.10       1\n",
       "4.55       1\n",
       "1.20       1\n",
       "7.50       1\n",
       "Name: consumption_comb, dtype: int64"
      ]
     },
     "execution_count": 50,
     "metadata": {},
     "output_type": "execute_result"
    }
   ],
   "source": [
    "df[\"consumption_comb\"].fillna(consumption_comb).value_counts(dropna = False) \n",
    "## çok mantıklı gelmedı böyle doldurmak çok null değer var"
   ]
  },
  {
   "cell_type": "code",
   "execution_count": 51,
   "metadata": {},
   "outputs": [],
   "source": [
    "fill_most(df, \"make_model\", \"consumption_comb\")"
   ]
  },
  {
   "cell_type": "code",
   "execution_count": 52,
   "metadata": {},
   "outputs": [
    {
     "data": {
      "text/plain": [
       "4.5    1120\n",
       "4.0    1112\n",
       "5.2     965\n",
       "5.7     845\n",
       "4.8     814\n",
       "4.7     740\n",
       "3.9     732\n",
       "5.4     663\n",
       "5.1     630\n",
       "3.3     629\n",
       "4.4     595\n",
       "3.8     585\n",
       "5.6     568\n",
       "5.0     520\n",
       "4.6     420\n",
       "4.2     408\n",
       "5.3     375\n",
       "3.7     369\n",
       "4.9     348\n",
       "5.5     342\n",
       "4.1     341\n",
       "5.9     308\n",
       "4.3     295\n",
       "3.5     288\n",
       "6.0     278\n",
       "3.6     194\n",
       "6.2     184\n",
       "5.8     142\n",
       "6.3     141\n",
       "6.1     135\n",
       "6.8     134\n",
       "6.6     119\n",
       "3.4     106\n",
       "3.0      73\n",
       "6.4      64\n",
       "7.4      62\n",
       "7.1      38\n",
       "1.0      38\n",
       "6.5      36\n",
       "6.7      33\n",
       "3.2      25\n",
       "6.9      21\n",
       "8.3      20\n",
       "7.6      14\n",
       "7.0       9\n",
       "3.1       7\n",
       "7.8       6\n",
       "7.2       6\n",
       "8.0       5\n",
       "8.6       3\n",
       "8.7       3\n",
       "8.1       2\n",
       "7.3       2\n",
       "7.9       2\n",
       "0.0       2\n",
       "7.5       1\n",
       "9.1       1\n",
       "1.2       1\n",
       "Name: consumption_comb, dtype: int64"
      ]
     },
     "execution_count": 52,
     "metadata": {},
     "output_type": "execute_result"
    }
   ],
   "source": [
    "df[\"consumption_comb\"].value_counts(dropna = False)"
   ]
  },
  {
   "cell_type": "code",
   "execution_count": 53,
   "metadata": {},
   "outputs": [],
   "source": [
    "## sadece ortalama kullanılcak fazla veriye gerek yok. correlasyon olarakta uygun"
   ]
  },
  {
   "cell_type": "code",
   "execution_count": 54,
   "metadata": {},
   "outputs": [
    {
     "data": {
      "text/plain": [
       "<AxesSubplot:>"
      ]
     },
     "execution_count": 54,
     "metadata": {},
     "output_type": "execute_result"
    },
    {
     "data": {
      "image/png": "[encoded data removed]",
      "text/plain": [
       "<Figure size 720x576 with 2 Axes>"
      ]
     },
     "metadata": {
      "needs_background": "light"
     },
     "output_type": "display_data"
    }
   ],
   "source": [
    "plt.figure(figsize=(10,8))\n",
    "sns.heatmap(df.corr(),annot=True)"
   ]
  },
  {
   "cell_type": "code",
   "execution_count": 55,
   "metadata": {},
   "outputs": [],
   "source": [
    "df.drop('consumption_city', axis=1, inplace=True)"
   ]
  },
  {
   "cell_type": "code",
   "execution_count": 56,
   "metadata": {},
   "outputs": [],
   "source": [
    "df.drop('consumption_country', axis=1, inplace=True)"
   ]
  },
  {
   "cell_type": "markdown",
   "metadata": {},
   "source": [
    "## Body Color vs Body Color Original"
   ]
  },
  {
   "cell_type": "code",
   "execution_count": 57,
   "metadata": {},
   "outputs": [
    {
     "data": {
      "text/plain": [
       "Black     3745\n",
       "Grey      3505\n",
       "White     3406\n",
       "Silver    1647\n",
       "Blue      1431\n",
       "Red        957\n",
       "NaN        597\n",
       "Brown      289\n",
       "Green      154\n",
       "Beige      108\n",
       "Yellow      51\n",
       "Violet      18\n",
       "Bronze       6\n",
       "Orange       3\n",
       "Gold         2\n",
       "Name: body_color, dtype: int64"
      ]
     },
     "execution_count": 57,
     "metadata": {},
     "output_type": "execute_result"
    }
   ],
   "source": [
    "df[\"body_color\"].value_counts(dropna = False)"
   ]
  },
  {
   "cell_type": "code",
   "execution_count": 58,
   "metadata": {},
   "outputs": [],
   "source": [
    "df[\"body_color\"].fillna(method = \"bfill\", inplace = True)"
   ]
  },
  {
   "cell_type": "code",
   "execution_count": 59,
   "metadata": {},
   "outputs": [
    {
     "data": {
      "text/plain": [
       "Black     3888\n",
       "Grey      3638\n",
       "White     3540\n",
       "Silver    1687\n",
       "Blue      1524\n",
       "Red        989\n",
       "Brown      299\n",
       "Green      163\n",
       "Beige      108\n",
       "Yellow      53\n",
       "Violet      18\n",
       "Bronze       7\n",
       "Orange       3\n",
       "Gold         2\n",
       "Name: body_color, dtype: int64"
      ]
     },
     "execution_count": 59,
     "metadata": {},
     "output_type": "execute_result"
    }
   ],
   "source": [
    "df[\"body_color\"].value_counts(dropna = False)"
   ]
  },
  {
   "cell_type": "code",
   "execution_count": 60,
   "metadata": {},
   "outputs": [
    {
     "data": {
      "text/plain": [
       "NaN                              3774\n",
       "Onyx Schwarz                      338\n",
       "Bianco                            282\n",
       "Mythosschwarz Metallic            238\n",
       "Brillantschwarz                   216\n",
       "                                 ... \n",
       "Rouge-Braun (G0Y)                   1\n",
       "VARI COLRI DISPONIBILI              1\n",
       "Kokosnussbraun Metallic             1\n",
       "Farbe frei wählbar                  1\n",
       "Perlmutt-Weiß Metallic (Weiß)       1\n",
       "Name: body_color_original, Length: 1927, dtype: int64"
      ]
     },
     "execution_count": 60,
     "metadata": {},
     "output_type": "execute_result"
    }
   ],
   "source": [
    "df[\"body_color_original\"].value_counts(dropna = False)"
   ]
  },
  {
   "cell_type": "code",
   "execution_count": 61,
   "metadata": {},
   "outputs": [],
   "source": [
    "df.drop('body_color_original',inplace=True,axis = 1)"
   ]
  },
  {
   "cell_type": "markdown",
   "metadata": {},
   "source": [
    "## Third Drop"
   ]
  },
  {
   "cell_type": "code",
   "execution_count": 62,
   "metadata": {},
   "outputs": [
    {
     "data": {
      "text/plain": [
       "Index(['make_model', 'short_description', 'body_type', 'price', 'vat', 'km',\n",
       "       'registration', 'hp', 'type', 'previous_owners', 'next_inspection',\n",
       "       'inspection_new', 'warranty', 'make', 'model', 'offer_number',\n",
       "       'first_registration', 'body_color', 'paint_type', 'upholstery',\n",
       "       'nr_of_doors', 'nr_of_seats', 'model_code', 'gearing_type',\n",
       "       'displacement', 'cylinders', 'drive_chain', 'fuel', 'consumption',\n",
       "       'co_2_emission', 'emission_class', 'comfort_&_convenience',\n",
       "       'entertainment_&_media', 'extras', 'safety_&_security', 'description',\n",
       "       'emission_label', 'gears', 'country_version', 'age',\n",
       "       'consumption_comb'],\n",
       "      dtype='object')"
      ]
     },
     "execution_count": 62,
     "metadata": {},
     "output_type": "execute_result"
    }
   ],
   "source": [
    "df.columns"
   ]
  },
  {
   "cell_type": "code",
   "execution_count": 63,
   "metadata": {},
   "outputs": [],
   "source": [
    "## Emisyonların fiyata bir etkisi yok "
   ]
  },
  {
   "cell_type": "code",
   "execution_count": 64,
   "metadata": {},
   "outputs": [],
   "source": [
    "third_drop= [\"co_2_emission\",\"emission_class\",\"emission_label\",\"make\",\"model\"]"
   ]
  },
  {
   "cell_type": "code",
   "execution_count": 65,
   "metadata": {},
   "outputs": [],
   "source": [
    "df.drop(third_drop,axis=1,inplace=True)"
   ]
  },
  {
   "cell_type": "markdown",
   "metadata": {},
   "source": [
    "## Displacement"
   ]
  },
  {
   "cell_type": "code",
   "execution_count": 66,
   "metadata": {
    "scrolled": true
   },
   "outputs": [
    {
     "data": {
      "text/plain": [
       "1598.0     4761\n",
       "999.0      2438\n",
       "1398.0     1314\n",
       "1399.0      749\n",
       "1229.0      677\n",
       "1956.0      670\n",
       "1461.0      595\n",
       "1490.0      559\n",
       "NaN         496\n",
       "1422.0      467\n",
       "1197.0      353\n",
       "898.0       351\n",
       "1395.0      320\n",
       "1968.0      301\n",
       "1149.0      288\n",
       "1618.0      212\n",
       "1798.0      210\n",
       "1498.0      196\n",
       "1600.0      130\n",
       "1248.0      110\n",
       "1997.0      103\n",
       "1364.0      102\n",
       "1400.0       90\n",
       "998.0        72\n",
       "1500.0       50\n",
       "2000.0       46\n",
       "1000.0       40\n",
       "1.0          36\n",
       "1998.0       25\n",
       "2480.0       20\n",
       "1200.0       18\n",
       "1984.0       18\n",
       "1397.0       11\n",
       "899.0        11\n",
       "160.0         6\n",
       "929.0         5\n",
       "1499.0        5\n",
       "997.0         4\n",
       "1596.0        4\n",
       "139.0         4\n",
       "900.0         4\n",
       "1599.0        3\n",
       "1199.0        3\n",
       "1396.0        3\n",
       "1495.0        2\n",
       "1589.0        2\n",
       "1300.0        2\n",
       "2.0           2\n",
       "995.0         2\n",
       "1496.0        1\n",
       "890.0         1\n",
       "1580.0        1\n",
       "1995.0        1\n",
       "1333.0        1\n",
       "54.0          1\n",
       "1533.0        1\n",
       "1100.0        1\n",
       "1350.0        1\n",
       "16000.0       1\n",
       "1856.0        1\n",
       "1568.0        1\n",
       "1896.0        1\n",
       "1584.0        1\n",
       "996.0         1\n",
       "1696.0        1\n",
       "1686.0        1\n",
       "15898.0       1\n",
       "1368.0        1\n",
       "140.0         1\n",
       "973.0         1\n",
       "1239.0        1\n",
       "1369.0        1\n",
       "1390.0        1\n",
       "122.0         1\n",
       "1198.0        1\n",
       "1195.0        1\n",
       "2967.0        1\n",
       "1800.0        1\n",
       "Name: displacement, dtype: int64"
      ]
     },
     "execution_count": 66,
     "metadata": {},
     "output_type": "execute_result"
    }
   ],
   "source": [
    "df[\"displacement\"].value_counts(dropna = False)"
   ]
  },
  {
   "cell_type": "code",
   "execution_count": 67,
   "metadata": {},
   "outputs": [],
   "source": [
    "fill_most(df,\"make_model\",\"displacement\")"
   ]
  },
  {
   "cell_type": "code",
   "execution_count": 68,
   "metadata": {},
   "outputs": [
    {
     "data": {
      "text/plain": [
       "1598.0     5063\n",
       "999.0      2467\n",
       "1398.0     1388\n",
       "1399.0      749\n",
       "1461.0      686\n",
       "1229.0      677\n",
       "1956.0      670\n",
       "1490.0      559\n",
       "1422.0      467\n",
       "1197.0      353\n",
       "898.0       351\n",
       "1395.0      320\n",
       "1968.0      301\n",
       "1149.0      288\n",
       "1618.0      212\n",
       "1798.0      210\n",
       "1498.0      196\n",
       "1600.0      130\n",
       "1248.0      110\n",
       "1997.0      103\n",
       "1364.0      102\n",
       "1400.0       90\n",
       "998.0        72\n",
       "1500.0       50\n",
       "2000.0       46\n",
       "1000.0       40\n",
       "1.0          36\n",
       "1998.0       25\n",
       "2480.0       20\n",
       "1200.0       18\n",
       "1984.0       18\n",
       "1397.0       11\n",
       "899.0        11\n",
       "160.0         6\n",
       "929.0         5\n",
       "1499.0        5\n",
       "997.0         4\n",
       "1596.0        4\n",
       "139.0         4\n",
       "900.0         4\n",
       "1599.0        3\n",
       "1199.0        3\n",
       "1396.0        3\n",
       "1495.0        2\n",
       "1589.0        2\n",
       "1300.0        2\n",
       "2.0           2\n",
       "995.0         2\n",
       "1496.0        1\n",
       "890.0         1\n",
       "1580.0        1\n",
       "1995.0        1\n",
       "1333.0        1\n",
       "54.0          1\n",
       "1533.0        1\n",
       "1100.0        1\n",
       "1350.0        1\n",
       "16000.0       1\n",
       "1856.0        1\n",
       "1568.0        1\n",
       "1896.0        1\n",
       "1584.0        1\n",
       "996.0         1\n",
       "1696.0        1\n",
       "1686.0        1\n",
       "15898.0       1\n",
       "1368.0        1\n",
       "140.0         1\n",
       "973.0         1\n",
       "1239.0        1\n",
       "1369.0        1\n",
       "1390.0        1\n",
       "122.0         1\n",
       "1198.0        1\n",
       "1195.0        1\n",
       "2967.0        1\n",
       "1800.0        1\n",
       "Name: displacement, dtype: int64"
      ]
     },
     "execution_count": 68,
     "metadata": {},
     "output_type": "execute_result"
    }
   ],
   "source": [
    "df[\"displacement\"].value_counts(dropna = False)"
   ]
  },
  {
   "cell_type": "code",
   "execution_count": null,
   "metadata": {},
   "outputs": [],
   "source": []
  },
  {
   "cell_type": "code",
   "execution_count": null,
   "metadata": {},
   "outputs": [],
   "source": []
  },
  {
   "cell_type": "code",
   "execution_count": null,
   "metadata": {},
   "outputs": [],
   "source": []
  },
  {
   "cell_type": "code",
   "execution_count": null,
   "metadata": {},
   "outputs": [],
   "source": []
  },
  {
   "cell_type": "markdown",
   "metadata": {},
   "source": [
    "## Gears"
   ]
  },
  {
   "cell_type": "code",
   "execution_count": 69,
   "metadata": {},
   "outputs": [
    {
     "data": {
      "text/plain": [
       "6.0     5822\n",
       "NaN     4712\n",
       "5.0     3239\n",
       "7.0     1908\n",
       "8.0      224\n",
       "9.0        6\n",
       "1.0        2\n",
       "3.0        2\n",
       "4.0        2\n",
       "2.0        1\n",
       "50.0       1\n",
       "Name: gears, dtype: int64"
      ]
     },
     "execution_count": 69,
     "metadata": {},
     "output_type": "execute_result"
    }
   ],
   "source": [
    "df.gears.value_counts(dropna=False)"
   ]
  },
  {
   "cell_type": "code",
   "execution_count": 70,
   "metadata": {},
   "outputs": [],
   "source": [
    "df[\"gears\"] = df[\"gears\"].fillna(df.groupby(\"make_model\")[\"gears\"].transform(\"median\"))"
   ]
  },
  {
   "cell_type": "code",
   "execution_count": 71,
   "metadata": {},
   "outputs": [
    {
     "data": {
      "text/plain": [
       "6.0     9361\n",
       "5.0     4411\n",
       "7.0     1908\n",
       "8.0      224\n",
       "9.0        6\n",
       "1.0        2\n",
       "3.0        2\n",
       "4.0        2\n",
       "NaN        1\n",
       "2.0        1\n",
       "50.0       1\n",
       "Name: gears, dtype: int64"
      ]
     },
     "execution_count": 71,
     "metadata": {},
     "output_type": "execute_result"
    }
   ],
   "source": [
    "df.gears.value_counts(dropna=False)"
   ]
  },
  {
   "cell_type": "code",
   "execution_count": 72,
   "metadata": {},
   "outputs": [
    {
     "data": {
      "text/plain": [
       "Index(['make_model', 'short_description', 'body_type', 'price', 'vat', 'km',\n",
       "       'registration', 'hp', 'type', 'previous_owners', 'next_inspection',\n",
       "       'inspection_new', 'warranty', 'offer_number', 'first_registration',\n",
       "       'body_color', 'paint_type', 'upholstery', 'nr_of_doors', 'nr_of_seats',\n",
       "       'model_code', 'gearing_type', 'displacement', 'cylinders',\n",
       "       'drive_chain', 'fuel', 'consumption', 'comfort_&_convenience',\n",
       "       'entertainment_&_media', 'extras', 'safety_&_security', 'description',\n",
       "       'gears', 'country_version', 'age', 'consumption_comb'],\n",
       "      dtype='object')"
      ]
     },
     "execution_count": 72,
     "metadata": {},
     "output_type": "execute_result"
    }
   ],
   "source": [
    "df.columns"
   ]
  },
  {
   "cell_type": "markdown",
   "metadata": {},
   "source": [
    "## nr_of_seats"
   ]
  },
  {
   "cell_type": "code",
   "execution_count": 73,
   "metadata": {},
   "outputs": [
    {
     "data": {
      "text/plain": [
       "5.0    13336\n",
       "4.0     1125\n",
       "NaN      977\n",
       "7.0      362\n",
       "2.0      116\n",
       "6.0        2\n",
       "3.0        1\n",
       "Name: nr_of_seats, dtype: int64"
      ]
     },
     "execution_count": 73,
     "metadata": {},
     "output_type": "execute_result"
    }
   ],
   "source": [
    "df[\"nr_of_seats\"].value_counts(dropna=False)"
   ]
  },
  {
   "cell_type": "code",
   "execution_count": 74,
   "metadata": {},
   "outputs": [],
   "source": [
    "fill_most(df,\"make_model\", \"nr_of_seats\")"
   ]
  },
  {
   "cell_type": "code",
   "execution_count": 75,
   "metadata": {},
   "outputs": [
    {
     "data": {
      "text/plain": [
       "5.0    14313\n",
       "4.0     1125\n",
       "7.0      362\n",
       "2.0      116\n",
       "6.0        2\n",
       "3.0        1\n",
       "Name: nr_of_seats, dtype: int64"
      ]
     },
     "execution_count": 75,
     "metadata": {},
     "output_type": "execute_result"
    }
   ],
   "source": [
    "df[\"nr_of_seats\"].value_counts(dropna=False)"
   ]
  },
  {
   "cell_type": "markdown",
   "metadata": {},
   "source": [
    "## nr_of_doors"
   ]
  },
  {
   "cell_type": "code",
   "execution_count": 76,
   "metadata": {},
   "outputs": [
    {
     "data": {
      "text/plain": [
       "5.0    11575\n",
       "4.0     3079\n",
       "3.0      832\n",
       "2.0      219\n",
       "NaN      212\n",
       "1.0        1\n",
       "7.0        1\n",
       "Name: nr_of_doors, dtype: int64"
      ]
     },
     "execution_count": 76,
     "metadata": {},
     "output_type": "execute_result"
    }
   ],
   "source": [
    "df[\"nr_of_doors\"].value_counts(dropna=False)"
   ]
  },
  {
   "cell_type": "code",
   "execution_count": 77,
   "metadata": {},
   "outputs": [],
   "source": [
    "fill_most(df,\"make_model\", \"nr_of_doors\")"
   ]
  },
  {
   "cell_type": "code",
   "execution_count": 78,
   "metadata": {},
   "outputs": [
    {
     "data": {
      "text/plain": [
       "5.0    11787\n",
       "4.0     3079\n",
       "3.0      832\n",
       "2.0      219\n",
       "1.0        1\n",
       "7.0        1\n",
       "Name: nr_of_doors, dtype: int64"
      ]
     },
     "execution_count": 78,
     "metadata": {},
     "output_type": "execute_result"
    }
   ],
   "source": [
    "df[\"nr_of_doors\"].value_counts(dropna=False)"
   ]
  },
  {
   "cell_type": "markdown",
   "metadata": {},
   "source": [
    "## Type"
   ]
  },
  {
   "cell_type": "code",
   "execution_count": 79,
   "metadata": {},
   "outputs": [
    {
     "data": {
      "text/plain": [
       "Used    12903\n",
       "New      3014\n",
       "NaN         2\n",
       "Name: type, dtype: int64"
      ]
     },
     "execution_count": 79,
     "metadata": {},
     "output_type": "execute_result"
    }
   ],
   "source": [
    "df[\"type\"].value_counts(dropna = False)"
   ]
  },
  {
   "cell_type": "code",
   "execution_count": 80,
   "metadata": {},
   "outputs": [],
   "source": [
    "fill_most(df,\"make_model\", \"type\")"
   ]
  },
  {
   "cell_type": "code",
   "execution_count": 81,
   "metadata": {},
   "outputs": [
    {
     "data": {
      "text/plain": [
       "Used    12905\n",
       "New      3014\n",
       "Name: type, dtype: int64"
      ]
     },
     "execution_count": 81,
     "metadata": {},
     "output_type": "execute_result"
    }
   ],
   "source": [
    "df[\"type\"].value_counts(dropna = False)"
   ]
  },
  {
   "cell_type": "markdown",
   "metadata": {},
   "source": [
    "## Upholstery"
   ]
  },
  {
   "cell_type": "code",
   "execution_count": 82,
   "metadata": {},
   "outputs": [
    {
     "data": {
      "text/plain": [
       "Cloth, Black           5821\n",
       "NaN                    3720\n",
       "Part leather, Black    1121\n",
       "Cloth                  1005\n",
       "Cloth, Grey             891\n",
       "Cloth, Other            639\n",
       "Full leather, Black     575\n",
       "Black                   491\n",
       "Grey                    273\n",
       "Other, Other            182\n",
       "Part leather            140\n",
       "Full leather            139\n",
       "Full leather, Brown     116\n",
       "Part leather, Grey      116\n",
       "Other, Black            110\n",
       "Full leather, Other      72\n",
       "Full leather, Grey       67\n",
       "Part leather, Other      65\n",
       "Other                    56\n",
       "Part leather, Brown      50\n",
       "alcantara, Black         47\n",
       "Velour, Black            36\n",
       "Full leather, Beige      36\n",
       "Cloth, Brown             28\n",
       "Velour                   16\n",
       "Other, Grey              15\n",
       "Cloth, Beige             13\n",
       "Brown                    12\n",
       "Cloth, Blue              12\n",
       "Velour, Grey              8\n",
       "Cloth, White              8\n",
       "alcantara, Grey           6\n",
       "Cloth, Red                5\n",
       "Other, Yellow             4\n",
       "Part leather, Red         3\n",
       "Beige                     3\n",
       "Part leather, White       2\n",
       "Full leather, Blue        2\n",
       "alcantara, Other          2\n",
       "alcantara                 2\n",
       "White                     2\n",
       "Part leather, Beige       2\n",
       "Blue                      2\n",
       "Cloth, Orange             1\n",
       "Full leather, Red         1\n",
       "Other, Brown              1\n",
       "Full leather, White       1\n",
       "Name: upholstery, dtype: int64"
      ]
     },
     "execution_count": 82,
     "metadata": {},
     "output_type": "execute_result"
    }
   ],
   "source": [
    "df[\"upholstery\"].value_counts(dropna = False)"
   ]
  },
  {
   "cell_type": "code",
   "execution_count": 83,
   "metadata": {},
   "outputs": [],
   "source": [
    "fill_most2(df, \"make_model\", \"body_type\", \"upholstery\")"
   ]
  },
  {
   "cell_type": "code",
   "execution_count": 84,
   "metadata": {},
   "outputs": [
    {
     "data": {
      "text/plain": [
       "Cloth, Black           8946\n",
       "Part leather, Black    1174\n",
       "Cloth                  1011\n",
       "Cloth, Grey             907\n",
       "Black                   693\n",
       "Cloth, Other            639\n",
       "Full leather, Black     575\n",
       "Full leather, Brown     416\n",
       "Grey                    273\n",
       "Other, Other            182\n",
       "Part leather            140\n",
       "Full leather            139\n",
       "Part leather, Grey      116\n",
       "Other, Black            110\n",
       "Full leather, Grey       83\n",
       "Full leather, Other      72\n",
       "Part leather, Other      66\n",
       "Other                    56\n",
       "Part leather, Brown      50\n",
       "alcantara, Black         47\n",
       "Full leather, Beige      37\n",
       "Velour, Black            36\n",
       "Cloth, Brown             28\n",
       "Velour                   16\n",
       "Other, Grey              15\n",
       "Cloth, Beige             13\n",
       "Cloth, Blue              12\n",
       "Brown                    12\n",
       "Velour, Grey              8\n",
       "Cloth, White              8\n",
       "alcantara, Grey           6\n",
       "Cloth, Red                5\n",
       "Other, Yellow             4\n",
       "Part leather, Red         3\n",
       "Beige                     3\n",
       "Part leather, White       2\n",
       "Full leather, Blue        2\n",
       "Part leather, Beige       2\n",
       "alcantara                 2\n",
       "White                     2\n",
       "Blue                      2\n",
       "alcantara, Other          2\n",
       "Full leather, Red         1\n",
       "Cloth, Orange             1\n",
       "Other, Brown              1\n",
       "Full leather, White       1\n",
       "Name: upholstery, dtype: int64"
      ]
     },
     "execution_count": 84,
     "metadata": {},
     "output_type": "execute_result"
    }
   ],
   "source": [
    "df[\"upholstery\"].value_counts(dropna = False)"
   ]
  },
  {
   "cell_type": "code",
   "execution_count": 85,
   "metadata": {},
   "outputs": [
    {
     "data": {
      "text/html": [
       "<div>\n",
       "<style scoped>\n",
       "    .dataframe tbody tr th:only-of-type {\n",
       "        vertical-align: middle;\n",
       "    }\n",
       "\n",
       "    .dataframe tbody tr th {\n",
       "        vertical-align: top;\n",
       "    }\n",
       "\n",
       "    .dataframe thead th {\n",
       "        text-align: right;\n",
       "    }\n",
       "</style>\n",
       "<table border=\"1\" class=\"dataframe\">\n",
       "  <thead>\n",
       "    <tr style=\"text-align: right;\">\n",
       "      <th></th>\n",
       "      <th>make_model</th>\n",
       "      <th>short_description</th>\n",
       "      <th>body_type</th>\n",
       "      <th>price</th>\n",
       "      <th>vat</th>\n",
       "      <th>km</th>\n",
       "      <th>registration</th>\n",
       "      <th>hp</th>\n",
       "      <th>type</th>\n",
       "      <th>previous_owners</th>\n",
       "      <th>next_inspection</th>\n",
       "      <th>inspection_new</th>\n",
       "      <th>warranty</th>\n",
       "      <th>offer_number</th>\n",
       "      <th>first_registration</th>\n",
       "      <th>body_color</th>\n",
       "      <th>paint_type</th>\n",
       "      <th>upholstery</th>\n",
       "      <th>nr_of_doors</th>\n",
       "      <th>nr_of_seats</th>\n",
       "      <th>model_code</th>\n",
       "      <th>gearing_type</th>\n",
       "      <th>displacement</th>\n",
       "      <th>cylinders</th>\n",
       "      <th>drive_chain</th>\n",
       "      <th>fuel</th>\n",
       "      <th>consumption</th>\n",
       "      <th>comfort_&amp;_convenience</th>\n",
       "      <th>entertainment_&amp;_media</th>\n",
       "      <th>extras</th>\n",
       "      <th>safety_&amp;_security</th>\n",
       "      <th>description</th>\n",
       "      <th>gears</th>\n",
       "      <th>country_version</th>\n",
       "      <th>age</th>\n",
       "      <th>consumption_comb</th>\n",
       "    </tr>\n",
       "  </thead>\n",
       "  <tbody>\n",
       "    <tr>\n",
       "      <th>0</th>\n",
       "      <td>Audi A1</td>\n",
       "      <td>Sportback 1.4 TDI S-tronic Xenon Navi Klima</td>\n",
       "      <td>Sedans</td>\n",
       "      <td>15770</td>\n",
       "      <td>VAT deductible</td>\n",
       "      <td>56013.0</td>\n",
       "      <td>2016-01-01</td>\n",
       "      <td>66.0</td>\n",
       "      <td>Used</td>\n",
       "      <td>2.0</td>\n",
       "      <td>2021-06-01</td>\n",
       "      <td>Yes</td>\n",
       "      <td>NaN</td>\n",
       "      <td>LR-062483</td>\n",
       "      <td>2016.0</td>\n",
       "      <td>Black</td>\n",
       "      <td>Metallic</td>\n",
       "      <td>Cloth, Black</td>\n",
       "      <td>5.0</td>\n",
       "      <td>5.0</td>\n",
       "      <td>0588/BDF</td>\n",
       "      <td>Automatic</td>\n",
       "      <td>1422.0</td>\n",
       "      <td>3.0</td>\n",
       "      <td>front</td>\n",
       "      <td>Diesel</td>\n",
       "      <td>[['3.8 l/100 km (comb)'], ['4.3 l/100 km (city...</td>\n",
       "      <td>Air conditioning,Armrest,Automatic climate con...</td>\n",
       "      <td>Bluetooth,Hands-free equipment,On-board comput...</td>\n",
       "      <td>Alloy wheels,Catalytic Converter,Voice Control</td>\n",
       "      <td>ABS,Central door lock,Daytime running lights,D...</td>\n",
       "      <td>['\\n', 'Sicherheit:', ' ', 'Deaktivierung für ...</td>\n",
       "      <td>6.0</td>\n",
       "      <td>NaN</td>\n",
       "      <td>4.0</td>\n",
       "      <td>3.8</td>\n",
       "    </tr>\n",
       "    <tr>\n",
       "      <th>1</th>\n",
       "      <td>Audi A1</td>\n",
       "      <td>1.8 TFSI sport</td>\n",
       "      <td>Sedans</td>\n",
       "      <td>14500</td>\n",
       "      <td>Price negotiable</td>\n",
       "      <td>80000.0</td>\n",
       "      <td>2017-03-01</td>\n",
       "      <td>141.0</td>\n",
       "      <td>Used</td>\n",
       "      <td>1.0</td>\n",
       "      <td>NaN</td>\n",
       "      <td>NaN</td>\n",
       "      <td>NaN</td>\n",
       "      <td>NaN</td>\n",
       "      <td>2017.0</td>\n",
       "      <td>Red</td>\n",
       "      <td>NaN</td>\n",
       "      <td>Cloth, Grey</td>\n",
       "      <td>3.0</td>\n",
       "      <td>4.0</td>\n",
       "      <td>0588/BCY</td>\n",
       "      <td>Automatic</td>\n",
       "      <td>1798.0</td>\n",
       "      <td>4.0</td>\n",
       "      <td>front</td>\n",
       "      <td>Benzine</td>\n",
       "      <td>[['5.6 l/100 km (comb)'], ['7.1 l/100 km (city...</td>\n",
       "      <td>Air conditioning,Automatic climate control,Hil...</td>\n",
       "      <td>Bluetooth,Hands-free equipment,On-board comput...</td>\n",
       "      <td>Alloy wheels,Sport seats,Sport suspension,Voic...</td>\n",
       "      <td>ABS,Central door lock,Central door lock with r...</td>\n",
       "      <td>['\\nLangstreckenfahrzeug daher die hohe Kilome...</td>\n",
       "      <td>7.0</td>\n",
       "      <td>NaN</td>\n",
       "      <td>3.0</td>\n",
       "      <td>5.6</td>\n",
       "    </tr>\n",
       "    <tr>\n",
       "      <th>2</th>\n",
       "      <td>Audi A1</td>\n",
       "      <td>Sportback 1.6 TDI S tronic Einparkhilfe plus+m...</td>\n",
       "      <td>Sedans</td>\n",
       "      <td>14640</td>\n",
       "      <td>VAT deductible</td>\n",
       "      <td>83450.0</td>\n",
       "      <td>2016-02-01</td>\n",
       "      <td>85.0</td>\n",
       "      <td>Used</td>\n",
       "      <td>1.0</td>\n",
       "      <td>NaN</td>\n",
       "      <td>NaN</td>\n",
       "      <td>NaN</td>\n",
       "      <td>AM-95365</td>\n",
       "      <td>2016.0</td>\n",
       "      <td>Black</td>\n",
       "      <td>Metallic</td>\n",
       "      <td>Cloth, Black</td>\n",
       "      <td>4.0</td>\n",
       "      <td>4.0</td>\n",
       "      <td>NaN</td>\n",
       "      <td>Automatic</td>\n",
       "      <td>1598.0</td>\n",
       "      <td>NaN</td>\n",
       "      <td>front</td>\n",
       "      <td>Diesel</td>\n",
       "      <td>[['3.8 l/100 km (comb)'], ['4.4 l/100 km (city...</td>\n",
       "      <td>Air conditioning,Cruise control,Electrical sid...</td>\n",
       "      <td>MP3,On-board computer</td>\n",
       "      <td>Alloy wheels,Voice Control</td>\n",
       "      <td>ABS,Central door lock,Daytime running lights,D...</td>\n",
       "      <td>['\\n', 'Fahrzeug-Nummer: AM-95365', ' ', 'Ehem...</td>\n",
       "      <td>6.0</td>\n",
       "      <td>NaN</td>\n",
       "      <td>4.0</td>\n",
       "      <td>3.8</td>\n",
       "    </tr>\n",
       "    <tr>\n",
       "      <th>3</th>\n",
       "      <td>Audi A1</td>\n",
       "      <td>1.4 TDi Design S tronic</td>\n",
       "      <td>Sedans</td>\n",
       "      <td>14500</td>\n",
       "      <td>NaN</td>\n",
       "      <td>73000.0</td>\n",
       "      <td>2016-08-01</td>\n",
       "      <td>66.0</td>\n",
       "      <td>Used</td>\n",
       "      <td>1.0</td>\n",
       "      <td>NaN</td>\n",
       "      <td>NaN</td>\n",
       "      <td>NaN</td>\n",
       "      <td>NaN</td>\n",
       "      <td>2016.0</td>\n",
       "      <td>Brown</td>\n",
       "      <td>Metallic</td>\n",
       "      <td>Cloth, Black</td>\n",
       "      <td>3.0</td>\n",
       "      <td>4.0</td>\n",
       "      <td>NaN</td>\n",
       "      <td>Automatic</td>\n",
       "      <td>1422.0</td>\n",
       "      <td>3.0</td>\n",
       "      <td>NaN</td>\n",
       "      <td>Diesel</td>\n",
       "      <td>[['3.8 l/100 km (comb)'], ['4.3 l/100 km (city...</td>\n",
       "      <td>Air suspension,Armrest,Auxiliary heating,Elect...</td>\n",
       "      <td>Bluetooth,CD player,Hands-free equipment,MP3,O...</td>\n",
       "      <td>Alloy wheels,Sport seats,Voice Control</td>\n",
       "      <td>ABS,Alarm system,Central door lock with remote...</td>\n",
       "      <td>['\\nAudi A1: ', '- 1e eigenaar ', '- Perfecte ...</td>\n",
       "      <td>6.0</td>\n",
       "      <td>NaN</td>\n",
       "      <td>4.0</td>\n",
       "      <td>3.8</td>\n",
       "    </tr>\n",
       "    <tr>\n",
       "      <th>4</th>\n",
       "      <td>Audi A1</td>\n",
       "      <td>Sportback 1.4 TDI S-Tronic S-Line Ext. admired...</td>\n",
       "      <td>Sedans</td>\n",
       "      <td>16790</td>\n",
       "      <td>NaN</td>\n",
       "      <td>16200.0</td>\n",
       "      <td>2016-05-01</td>\n",
       "      <td>66.0</td>\n",
       "      <td>Used</td>\n",
       "      <td>1.0</td>\n",
       "      <td>NaN</td>\n",
       "      <td>Yes</td>\n",
       "      <td>NaN</td>\n",
       "      <td>C1626</td>\n",
       "      <td>2016.0</td>\n",
       "      <td>Black</td>\n",
       "      <td>Metallic</td>\n",
       "      <td>Cloth, Black</td>\n",
       "      <td>5.0</td>\n",
       "      <td>5.0</td>\n",
       "      <td>0588/BDF</td>\n",
       "      <td>Automatic</td>\n",
       "      <td>1422.0</td>\n",
       "      <td>3.0</td>\n",
       "      <td>front</td>\n",
       "      <td>Diesel</td>\n",
       "      <td>[['4.1 l/100 km (comb)'], ['4.6 l/100 km (city...</td>\n",
       "      <td>Air conditioning,Armrest,Automatic climate con...</td>\n",
       "      <td>Bluetooth,CD player,Hands-free equipment,MP3,O...</td>\n",
       "      <td>Alloy wheels,Sport package,Sport suspension,Vo...</td>\n",
       "      <td>ABS,Central door lock,Driver-side airbag,Elect...</td>\n",
       "      <td>['\\n', 'Technik &amp; Sicherheit:', 'Xenon plus', ...</td>\n",
       "      <td>6.0</td>\n",
       "      <td>Germany</td>\n",
       "      <td>4.0</td>\n",
       "      <td>4.1</td>\n",
       "    </tr>\n",
       "    <tr>\n",
       "      <th>...</th>\n",
       "      <td>...</td>\n",
       "      <td>...</td>\n",
       "      <td>...</td>\n",
       "      <td>...</td>\n",
       "      <td>...</td>\n",
       "      <td>...</td>\n",
       "      <td>...</td>\n",
       "      <td>...</td>\n",
       "      <td>...</td>\n",
       "      <td>...</td>\n",
       "      <td>...</td>\n",
       "      <td>...</td>\n",
       "      <td>...</td>\n",
       "      <td>...</td>\n",
       "      <td>...</td>\n",
       "      <td>...</td>\n",
       "      <td>...</td>\n",
       "      <td>...</td>\n",
       "      <td>...</td>\n",
       "      <td>...</td>\n",
       "      <td>...</td>\n",
       "      <td>...</td>\n",
       "      <td>...</td>\n",
       "      <td>...</td>\n",
       "      <td>...</td>\n",
       "      <td>...</td>\n",
       "      <td>...</td>\n",
       "      <td>...</td>\n",
       "      <td>...</td>\n",
       "      <td>...</td>\n",
       "      <td>...</td>\n",
       "      <td>...</td>\n",
       "      <td>...</td>\n",
       "      <td>...</td>\n",
       "      <td>...</td>\n",
       "      <td>...</td>\n",
       "    </tr>\n",
       "    <tr>\n",
       "      <th>15914</th>\n",
       "      <td>Renault Espace</td>\n",
       "      <td>Blue dCi 200CV EDC Executive 4Control</td>\n",
       "      <td>Van</td>\n",
       "      <td>39950</td>\n",
       "      <td>VAT deductible</td>\n",
       "      <td>NaN</td>\n",
       "      <td>NaN</td>\n",
       "      <td>147.0</td>\n",
       "      <td>New</td>\n",
       "      <td>1.0</td>\n",
       "      <td>NaN</td>\n",
       "      <td>NaN</td>\n",
       "      <td>NaN</td>\n",
       "      <td>10988301</td>\n",
       "      <td>NaN</td>\n",
       "      <td>Grey</td>\n",
       "      <td>Metallic</td>\n",
       "      <td>Full leather, Brown</td>\n",
       "      <td>5.0</td>\n",
       "      <td>5.0</td>\n",
       "      <td>NaN</td>\n",
       "      <td>Automatic</td>\n",
       "      <td>1997.0</td>\n",
       "      <td>4.0</td>\n",
       "      <td>front</td>\n",
       "      <td>Diesel</td>\n",
       "      <td>[['5.3 l/100 km (comb)'], ['6.2 l/100 km (city...</td>\n",
       "      <td>Air conditioning,Automatic climate control,Cru...</td>\n",
       "      <td>Bluetooth,Digital radio,Hands-free equipment,O...</td>\n",
       "      <td>Alloy wheels,Touch screen</td>\n",
       "      <td>ABS,Central door lock,Central door lock with r...</td>\n",
       "      <td>['\\nVettura visionabile nella sede in Via Roma...</td>\n",
       "      <td>6.0</td>\n",
       "      <td>NaN</td>\n",
       "      <td>1.0</td>\n",
       "      <td>5.3</td>\n",
       "    </tr>\n",
       "    <tr>\n",
       "      <th>15915</th>\n",
       "      <td>Renault Espace</td>\n",
       "      <td>TCe 225 EDC GPF LIM Deluxe Pano,RFK</td>\n",
       "      <td>Van</td>\n",
       "      <td>39885</td>\n",
       "      <td>VAT deductible</td>\n",
       "      <td>9900.0</td>\n",
       "      <td>2019-01-01</td>\n",
       "      <td>165.0</td>\n",
       "      <td>Used</td>\n",
       "      <td>1.0</td>\n",
       "      <td>2022-01-01</td>\n",
       "      <td>NaN</td>\n",
       "      <td>NaN</td>\n",
       "      <td>507370_3223</td>\n",
       "      <td>2019.0</td>\n",
       "      <td>Grey</td>\n",
       "      <td>Metallic</td>\n",
       "      <td>Cloth</td>\n",
       "      <td>5.0</td>\n",
       "      <td>5.0</td>\n",
       "      <td>0000/000</td>\n",
       "      <td>Automatic</td>\n",
       "      <td>1798.0</td>\n",
       "      <td>4.0</td>\n",
       "      <td>front</td>\n",
       "      <td>Benzine</td>\n",
       "      <td>['\\n', '7.4 l/100 km (comb)', '\\n', '9.2 l/100...</td>\n",
       "      <td>Air conditioning,Automatic climate control,Cru...</td>\n",
       "      <td>Bluetooth,Digital radio,Hands-free equipment,R...</td>\n",
       "      <td>Alloy wheels,Touch screen,Voice Control</td>\n",
       "      <td>ABS,Adaptive Cruise Control,Blind spot monitor...</td>\n",
       "      <td>['\\nDach: Panorama-Glas-Schiebedach, Lackierun...</td>\n",
       "      <td>7.0</td>\n",
       "      <td>Germany</td>\n",
       "      <td>1.0</td>\n",
       "      <td>4.7</td>\n",
       "    </tr>\n",
       "    <tr>\n",
       "      <th>15916</th>\n",
       "      <td>Renault Espace</td>\n",
       "      <td>Blue dCi 200 EDC Initiale Paris Leder LED Navi...</td>\n",
       "      <td>Van</td>\n",
       "      <td>39875</td>\n",
       "      <td>VAT deductible</td>\n",
       "      <td>15.0</td>\n",
       "      <td>2019-03-01</td>\n",
       "      <td>146.0</td>\n",
       "      <td>New</td>\n",
       "      <td>1.0</td>\n",
       "      <td>NaN</td>\n",
       "      <td>Yes</td>\n",
       "      <td>NaN</td>\n",
       "      <td>Espace16</td>\n",
       "      <td>2019.0</td>\n",
       "      <td>White</td>\n",
       "      <td>NaN</td>\n",
       "      <td>Full leather, Black</td>\n",
       "      <td>5.0</td>\n",
       "      <td>7.0</td>\n",
       "      <td>NaN</td>\n",
       "      <td>Automatic</td>\n",
       "      <td>1997.0</td>\n",
       "      <td>4.0</td>\n",
       "      <td>front</td>\n",
       "      <td>Diesel</td>\n",
       "      <td>[['5.3 l/100 km (comb)'], ['6.2 l/100 km (city...</td>\n",
       "      <td>Air conditioning,Armrest,Automatic climate con...</td>\n",
       "      <td>Bluetooth,Hands-free equipment,On-board comput...</td>\n",
       "      <td>Alloy wheels</td>\n",
       "      <td>ABS,Adaptive Cruise Control,Blind spot monitor...</td>\n",
       "      <td>['\\n', 'Getriebe:', ' Automatik', 'Technik:', ...</td>\n",
       "      <td>6.0</td>\n",
       "      <td>Austria</td>\n",
       "      <td>1.0</td>\n",
       "      <td>5.3</td>\n",
       "    </tr>\n",
       "    <tr>\n",
       "      <th>15917</th>\n",
       "      <td>Renault Espace</td>\n",
       "      <td>Blue dCi 200CV EDC Business , NUOVA DA IMMATRI...</td>\n",
       "      <td>Van</td>\n",
       "      <td>39700</td>\n",
       "      <td>VAT deductible</td>\n",
       "      <td>10.0</td>\n",
       "      <td>2019-06-01</td>\n",
       "      <td>147.0</td>\n",
       "      <td>New</td>\n",
       "      <td>1.0</td>\n",
       "      <td>NaN</td>\n",
       "      <td>NaN</td>\n",
       "      <td>NaN</td>\n",
       "      <td>2691331</td>\n",
       "      <td>2019.0</td>\n",
       "      <td>Grey</td>\n",
       "      <td>NaN</td>\n",
       "      <td>Part leather</td>\n",
       "      <td>5.0</td>\n",
       "      <td>7.0</td>\n",
       "      <td>NaN</td>\n",
       "      <td>Automatic</td>\n",
       "      <td>1997.0</td>\n",
       "      <td>4.0</td>\n",
       "      <td>front</td>\n",
       "      <td>Diesel</td>\n",
       "      <td>[['5.3 l/100 km (comb)'], ['6.2 l/100 km (city...</td>\n",
       "      <td>Air conditioning,Automatic climate control,Cru...</td>\n",
       "      <td>Bluetooth,Digital radio,Radio,USB</td>\n",
       "      <td>Alloy wheels,Touch screen</td>\n",
       "      <td>ABS,Blind spot monitor,Driver-side airbag,Elec...</td>\n",
       "      <td>['\\nDEK:[2691331]', 'Renault Espace Blue dCi 2...</td>\n",
       "      <td>6.0</td>\n",
       "      <td>NaN</td>\n",
       "      <td>1.0</td>\n",
       "      <td>5.3</td>\n",
       "    </tr>\n",
       "    <tr>\n",
       "      <th>15918</th>\n",
       "      <td>Renault Espace</td>\n",
       "      <td>INITIALE PARIS TCe 225 EDC GPF NAVI SHZ AUX</td>\n",
       "      <td>Van</td>\n",
       "      <td>40999</td>\n",
       "      <td>VAT deductible</td>\n",
       "      <td>NaN</td>\n",
       "      <td>2019-01-01</td>\n",
       "      <td>165.0</td>\n",
       "      <td>Used</td>\n",
       "      <td>1.0</td>\n",
       "      <td>NaN</td>\n",
       "      <td>Yes</td>\n",
       "      <td>NaN</td>\n",
       "      <td>Re_30000008029</td>\n",
       "      <td>2019.0</td>\n",
       "      <td>Grey</td>\n",
       "      <td>Metallic</td>\n",
       "      <td>Full leather, Brown</td>\n",
       "      <td>5.0</td>\n",
       "      <td>5.0</td>\n",
       "      <td>3333/BHJ</td>\n",
       "      <td>Automatic</td>\n",
       "      <td>1798.0</td>\n",
       "      <td>4.0</td>\n",
       "      <td>4WD</td>\n",
       "      <td>Benzine</td>\n",
       "      <td>[['6.8 l/100 km (comb)'], ['8.7 l/100 km (city...</td>\n",
       "      <td>Air conditioning,Automatic climate control,Cru...</td>\n",
       "      <td>USB</td>\n",
       "      <td>Alloy wheels,Touch screen</td>\n",
       "      <td>ABS,Blind spot monitor,Daytime running lights,...</td>\n",
       "      <td>['\\n', 'Sicherheit Airbags:', ' ', 'Seitenairb...</td>\n",
       "      <td>6.0</td>\n",
       "      <td>Germany</td>\n",
       "      <td>1.0</td>\n",
       "      <td>6.8</td>\n",
       "    </tr>\n",
       "  </tbody>\n",
       "</table>\n",
       "<p>15919 rows × 36 columns</p>\n",
       "</div>"
      ],
      "text/plain": [
       "           make_model                                  short_description  \\\n",
       "0             Audi A1        Sportback 1.4 TDI S-tronic Xenon Navi Klima   \n",
       "1             Audi A1                                     1.8 TFSI sport   \n",
       "2             Audi A1  Sportback 1.6 TDI S tronic Einparkhilfe plus+m...   \n",
       "3             Audi A1                            1.4 TDi Design S tronic   \n",
       "4             Audi A1  Sportback 1.4 TDI S-Tronic S-Line Ext. admired...   \n",
       "...               ...                                                ...   \n",
       "15914  Renault Espace              Blue dCi 200CV EDC Executive 4Control   \n",
       "15915  Renault Espace                TCe 225 EDC GPF LIM Deluxe Pano,RFK   \n",
       "15916  Renault Espace  Blue dCi 200 EDC Initiale Paris Leder LED Navi...   \n",
       "15917  Renault Espace  Blue dCi 200CV EDC Business , NUOVA DA IMMATRI...   \n",
       "15918  Renault Espace        INITIALE PARIS TCe 225 EDC GPF NAVI SHZ AUX   \n",
       "\n",
       "      body_type  price               vat       km registration     hp  type  \\\n",
       "0        Sedans  15770    VAT deductible  56013.0   2016-01-01   66.0  Used   \n",
       "1        Sedans  14500  Price negotiable  80000.0   2017-03-01  141.0  Used   \n",
       "2        Sedans  14640    VAT deductible  83450.0   2016-02-01   85.0  Used   \n",
       "3        Sedans  14500               NaN  73000.0   2016-08-01   66.0  Used   \n",
       "4        Sedans  16790               NaN  16200.0   2016-05-01   66.0  Used   \n",
       "...         ...    ...               ...      ...          ...    ...   ...   \n",
       "15914       Van  39950    VAT deductible      NaN          NaN  147.0   New   \n",
       "15915       Van  39885    VAT deductible   9900.0   2019-01-01  165.0  Used   \n",
       "15916       Van  39875    VAT deductible     15.0   2019-03-01  146.0   New   \n",
       "15917       Van  39700    VAT deductible     10.0   2019-06-01  147.0   New   \n",
       "15918       Van  40999    VAT deductible      NaN   2019-01-01  165.0  Used   \n",
       "\n",
       "       previous_owners next_inspection inspection_new warranty  \\\n",
       "0                  2.0      2021-06-01            Yes      NaN   \n",
       "1                  1.0             NaN            NaN      NaN   \n",
       "2                  1.0             NaN            NaN      NaN   \n",
       "3                  1.0             NaN            NaN      NaN   \n",
       "4                  1.0             NaN            Yes      NaN   \n",
       "...                ...             ...            ...      ...   \n",
       "15914              1.0             NaN            NaN      NaN   \n",
       "15915              1.0      2022-01-01            NaN      NaN   \n",
       "15916              1.0             NaN            Yes      NaN   \n",
       "15917              1.0             NaN            NaN      NaN   \n",
       "15918              1.0             NaN            Yes      NaN   \n",
       "\n",
       "         offer_number  first_registration body_color paint_type  \\\n",
       "0           LR-062483              2016.0      Black   Metallic   \n",
       "1                 NaN              2017.0        Red        NaN   \n",
       "2            AM-95365              2016.0      Black   Metallic   \n",
       "3                 NaN              2016.0      Brown   Metallic   \n",
       "4               C1626              2016.0      Black   Metallic   \n",
       "...               ...                 ...        ...        ...   \n",
       "15914        10988301                 NaN       Grey   Metallic   \n",
       "15915     507370_3223              2019.0       Grey   Metallic   \n",
       "15916        Espace16              2019.0      White        NaN   \n",
       "15917         2691331              2019.0       Grey        NaN   \n",
       "15918  Re_30000008029              2019.0       Grey   Metallic   \n",
       "\n",
       "                upholstery  nr_of_doors  nr_of_seats model_code gearing_type  \\\n",
       "0             Cloth, Black          5.0          5.0   0588/BDF    Automatic   \n",
       "1              Cloth, Grey          3.0          4.0   0588/BCY    Automatic   \n",
       "2             Cloth, Black          4.0          4.0        NaN    Automatic   \n",
       "3             Cloth, Black          3.0          4.0        NaN    Automatic   \n",
       "4             Cloth, Black          5.0          5.0   0588/BDF    Automatic   \n",
       "...                    ...          ...          ...        ...          ...   \n",
       "15914  Full leather, Brown          5.0          5.0        NaN    Automatic   \n",
       "15915                Cloth          5.0          5.0   0000/000    Automatic   \n",
       "15916  Full leather, Black          5.0          7.0        NaN    Automatic   \n",
       "15917         Part leather          5.0          7.0        NaN    Automatic   \n",
       "15918  Full leather, Brown          5.0          5.0   3333/BHJ    Automatic   \n",
       "\n",
       "       displacement  cylinders drive_chain     fuel  \\\n",
       "0            1422.0        3.0       front   Diesel   \n",
       "1            1798.0        4.0       front  Benzine   \n",
       "2            1598.0        NaN       front   Diesel   \n",
       "3            1422.0        3.0         NaN   Diesel   \n",
       "4            1422.0        3.0       front   Diesel   \n",
       "...             ...        ...         ...      ...   \n",
       "15914        1997.0        4.0       front   Diesel   \n",
       "15915        1798.0        4.0       front  Benzine   \n",
       "15916        1997.0        4.0       front   Diesel   \n",
       "15917        1997.0        4.0       front   Diesel   \n",
       "15918        1798.0        4.0         4WD  Benzine   \n",
       "\n",
       "                                             consumption  \\\n",
       "0      [['3.8 l/100 km (comb)'], ['4.3 l/100 km (city...   \n",
       "1      [['5.6 l/100 km (comb)'], ['7.1 l/100 km (city...   \n",
       "2      [['3.8 l/100 km (comb)'], ['4.4 l/100 km (city...   \n",
       "3      [['3.8 l/100 km (comb)'], ['4.3 l/100 km (city...   \n",
       "4      [['4.1 l/100 km (comb)'], ['4.6 l/100 km (city...   \n",
       "...                                                  ...   \n",
       "15914  [['5.3 l/100 km (comb)'], ['6.2 l/100 km (city...   \n",
       "15915  ['\\n', '7.4 l/100 km (comb)', '\\n', '9.2 l/100...   \n",
       "15916  [['5.3 l/100 km (comb)'], ['6.2 l/100 km (city...   \n",
       "15917  [['5.3 l/100 km (comb)'], ['6.2 l/100 km (city...   \n",
       "15918  [['6.8 l/100 km (comb)'], ['8.7 l/100 km (city...   \n",
       "\n",
       "                                   comfort_&_convenience  \\\n",
       "0      Air conditioning,Armrest,Automatic climate con...   \n",
       "1      Air conditioning,Automatic climate control,Hil...   \n",
       "2      Air conditioning,Cruise control,Electrical sid...   \n",
       "3      Air suspension,Armrest,Auxiliary heating,Elect...   \n",
       "4      Air conditioning,Armrest,Automatic climate con...   \n",
       "...                                                  ...   \n",
       "15914  Air conditioning,Automatic climate control,Cru...   \n",
       "15915  Air conditioning,Automatic climate control,Cru...   \n",
       "15916  Air conditioning,Armrest,Automatic climate con...   \n",
       "15917  Air conditioning,Automatic climate control,Cru...   \n",
       "15918  Air conditioning,Automatic climate control,Cru...   \n",
       "\n",
       "                                   entertainment_&_media  \\\n",
       "0      Bluetooth,Hands-free equipment,On-board comput...   \n",
       "1      Bluetooth,Hands-free equipment,On-board comput...   \n",
       "2                                  MP3,On-board computer   \n",
       "3      Bluetooth,CD player,Hands-free equipment,MP3,O...   \n",
       "4      Bluetooth,CD player,Hands-free equipment,MP3,O...   \n",
       "...                                                  ...   \n",
       "15914  Bluetooth,Digital radio,Hands-free equipment,O...   \n",
       "15915  Bluetooth,Digital radio,Hands-free equipment,R...   \n",
       "15916  Bluetooth,Hands-free equipment,On-board comput...   \n",
       "15917                  Bluetooth,Digital radio,Radio,USB   \n",
       "15918                                                USB   \n",
       "\n",
       "                                                  extras  \\\n",
       "0         Alloy wheels,Catalytic Converter,Voice Control   \n",
       "1      Alloy wheels,Sport seats,Sport suspension,Voic...   \n",
       "2                             Alloy wheels,Voice Control   \n",
       "3                 Alloy wheels,Sport seats,Voice Control   \n",
       "4      Alloy wheels,Sport package,Sport suspension,Vo...   \n",
       "...                                                  ...   \n",
       "15914                          Alloy wheels,Touch screen   \n",
       "15915            Alloy wheels,Touch screen,Voice Control   \n",
       "15916                                       Alloy wheels   \n",
       "15917                          Alloy wheels,Touch screen   \n",
       "15918                          Alloy wheels,Touch screen   \n",
       "\n",
       "                                       safety_&_security  \\\n",
       "0      ABS,Central door lock,Daytime running lights,D...   \n",
       "1      ABS,Central door lock,Central door lock with r...   \n",
       "2      ABS,Central door lock,Daytime running lights,D...   \n",
       "3      ABS,Alarm system,Central door lock with remote...   \n",
       "4      ABS,Central door lock,Driver-side airbag,Elect...   \n",
       "...                                                  ...   \n",
       "15914  ABS,Central door lock,Central door lock with r...   \n",
       "15915  ABS,Adaptive Cruise Control,Blind spot monitor...   \n",
       "15916  ABS,Adaptive Cruise Control,Blind spot monitor...   \n",
       "15917  ABS,Blind spot monitor,Driver-side airbag,Elec...   \n",
       "15918  ABS,Blind spot monitor,Daytime running lights,...   \n",
       "\n",
       "                                             description  gears  \\\n",
       "0      ['\\n', 'Sicherheit:', ' ', 'Deaktivierung für ...    6.0   \n",
       "1      ['\\nLangstreckenfahrzeug daher die hohe Kilome...    7.0   \n",
       "2      ['\\n', 'Fahrzeug-Nummer: AM-95365', ' ', 'Ehem...    6.0   \n",
       "3      ['\\nAudi A1: ', '- 1e eigenaar ', '- Perfecte ...    6.0   \n",
       "4      ['\\n', 'Technik & Sicherheit:', 'Xenon plus', ...    6.0   \n",
       "...                                                  ...    ...   \n",
       "15914  ['\\nVettura visionabile nella sede in Via Roma...    6.0   \n",
       "15915  ['\\nDach: Panorama-Glas-Schiebedach, Lackierun...    7.0   \n",
       "15916  ['\\n', 'Getriebe:', ' Automatik', 'Technik:', ...    6.0   \n",
       "15917  ['\\nDEK:[2691331]', 'Renault Espace Blue dCi 2...    6.0   \n",
       "15918  ['\\n', 'Sicherheit Airbags:', ' ', 'Seitenairb...    6.0   \n",
       "\n",
       "      country_version  age  consumption_comb  \n",
       "0                 NaN  4.0               3.8  \n",
       "1                 NaN  3.0               5.6  \n",
       "2                 NaN  4.0               3.8  \n",
       "3                 NaN  4.0               3.8  \n",
       "4             Germany  4.0               4.1  \n",
       "...               ...  ...               ...  \n",
       "15914             NaN  1.0               5.3  \n",
       "15915         Germany  1.0               4.7  \n",
       "15916         Austria  1.0               5.3  \n",
       "15917             NaN  1.0               5.3  \n",
       "15918         Germany  1.0               6.8  \n",
       "\n",
       "[15919 rows x 36 columns]"
      ]
     },
     "execution_count": 85,
     "metadata": {},
     "output_type": "execute_result"
    }
   ],
   "source": [
    "df"
   ]
  },
  {
   "cell_type": "code",
   "execution_count": 86,
   "metadata": {},
   "outputs": [
    {
     "data": {
      "text/plain": [
       "make_model                0.000000\n",
       "short_description         0.288963\n",
       "body_type                 0.000000\n",
       "price                     0.000000\n",
       "vat                      28.349771\n",
       "km                        6.432565\n",
       "registration             10.032037\n",
       "hp                        0.552799\n",
       "type                      0.000000\n",
       "previous_owners           0.000000\n",
       "next_inspection          82.253910\n",
       "inspection_new           77.573968\n",
       "warranty                 82.436083\n",
       "offer_number             19.944720\n",
       "first_registration       10.032037\n",
       "body_color                0.000000\n",
       "paint_type               36.258559\n",
       "upholstery                0.000000\n",
       "nr_of_doors               0.000000\n",
       "nr_of_seats               0.000000\n",
       "model_code               68.729192\n",
       "gearing_type              0.000000\n",
       "displacement              0.000000\n",
       "cylinders                35.680633\n",
       "drive_chain              43.080596\n",
       "fuel                      0.000000\n",
       "consumption              11.973114\n",
       "comfort_&_convenience     0.000000\n",
       "entertainment_&_media     0.000000\n",
       "extras                    0.000000\n",
       "safety_&_security         0.000000\n",
       "description               0.000000\n",
       "gears                     0.006282\n",
       "country_version          52.346253\n",
       "age                       0.000000\n",
       "consumption_comb          0.000000\n",
       "dtype: float64"
      ]
     },
     "execution_count": 86,
     "metadata": {},
     "output_type": "execute_result"
    }
   ],
   "source": [
    "df.isnull().sum()*100/df.shape[0]"
   ]
  },
  {
   "cell_type": "markdown",
   "metadata": {},
   "source": [
    "## Forty Drop"
   ]
  },
  {
   "cell_type": "code",
   "execution_count": 87,
   "metadata": {},
   "outputs": [],
   "source": [
    "forty_drop = [\"short_description\",\"warranty\",\"offer_number\",\"registration\",\"first_registration\"]\n",
    "df.drop(forty_drop,axis=1,inplace=True)"
   ]
  },
  {
   "cell_type": "markdown",
   "metadata": {},
   "source": [
    "## HP"
   ]
  },
  {
   "cell_type": "code",
   "execution_count": 88,
   "metadata": {
    "scrolled": true
   },
   "outputs": [
    {
     "data": {
      "text/plain": [
       "85.0     2542\n",
       "66.0     2122\n",
       "81.0     1402\n",
       "100.0    1308\n",
       "110.0    1112\n",
       "70.0      888\n",
       "125.0     707\n",
       "51.0      695\n",
       "55.0      569\n",
       "118.0     516\n",
       "92.0      466\n",
       "121.0     392\n",
       "147.0     380\n",
       "77.0      345\n",
       "56.0      286\n",
       "54.0      276\n",
       "103.0     253\n",
       "87.0      232\n",
       "165.0     194\n",
       "88.0      177\n",
       "60.0      160\n",
       "162.0      98\n",
       "NaN        88\n",
       "74.0       81\n",
       "96.0       72\n",
       "71.0       59\n",
       "101.0      47\n",
       "67.0       40\n",
       "154.0      39\n",
       "122.0      35\n",
       "119.0      30\n",
       "164.0      27\n",
       "135.0      24\n",
       "82.0       22\n",
       "52.0       22\n",
       "78.0       20\n",
       "1.0        20\n",
       "294.0      18\n",
       "146.0      18\n",
       "141.0      16\n",
       "57.0       10\n",
       "104.0       8\n",
       "120.0       8\n",
       "191.0       7\n",
       "112.0       7\n",
       "155.0       6\n",
       "117.0       6\n",
       "184.0       5\n",
       "90.0        4\n",
       "76.0        4\n",
       "65.0        4\n",
       "149.0       3\n",
       "80.0        3\n",
       "168.0       3\n",
       "98.0        3\n",
       "93.0        3\n",
       "228.0       2\n",
       "270.0       2\n",
       "53.0        2\n",
       "140.0       2\n",
       "86.0        2\n",
       "167.0       2\n",
       "127.0       2\n",
       "89.0        2\n",
       "143.0       2\n",
       "63.0        2\n",
       "40.0        2\n",
       "150.0       2\n",
       "163.0       1\n",
       "115.0       1\n",
       "132.0       1\n",
       "75.0        1\n",
       "4.0         1\n",
       "137.0       1\n",
       "123.0       1\n",
       "133.0       1\n",
       "84.0        1\n",
       "195.0       1\n",
       "44.0        1\n",
       "239.0       1\n",
       "9.0         1\n",
       "Name: hp, dtype: int64"
      ]
     },
     "execution_count": 88,
     "metadata": {},
     "output_type": "execute_result"
    }
   ],
   "source": [
    "df[\"hp\"].value_counts(dropna = False)"
   ]
  },
  {
   "cell_type": "code",
   "execution_count": 89,
   "metadata": {},
   "outputs": [],
   "source": [
    "df.hp.loc[df.hp < 40] = np.nan"
   ]
  },
  {
   "cell_type": "code",
   "execution_count": 90,
   "metadata": {},
   "outputs": [],
   "source": [
    "#fill_most(df,\"make_model\",\"hp\")"
   ]
  },
  {
   "cell_type": "code",
   "execution_count": 91,
   "metadata": {},
   "outputs": [],
   "source": [
    "df[\"hp\"] = df[\"hp\"].fillna(df.groupby(\"make_model\")[\"hp\"].transform(\"median\"))"
   ]
  },
  {
   "cell_type": "code",
   "execution_count": 92,
   "metadata": {},
   "outputs": [
    {
     "data": {
      "text/plain": [
       "85.0     2544\n",
       "66.0     2131\n",
       "81.0     1402\n",
       "100.0    1308\n",
       "110.0    1112\n",
       "70.0      890\n",
       "125.0     707\n",
       "51.0      695\n",
       "55.0      569\n",
       "118.0     552\n",
       "92.0      475\n",
       "121.0     406\n",
       "147.0     380\n",
       "77.0      353\n",
       "56.0      316\n",
       "54.0      276\n",
       "103.0     253\n",
       "87.0      232\n",
       "165.0     194\n",
       "88.0      177\n",
       "60.0      160\n",
       "162.0      98\n",
       "74.0       81\n",
       "96.0       72\n",
       "71.0       59\n",
       "101.0      47\n",
       "67.0       40\n",
       "154.0      39\n",
       "122.0      35\n",
       "119.0      30\n",
       "164.0      27\n",
       "135.0      24\n",
       "82.0       22\n",
       "52.0       22\n",
       "78.0       20\n",
       "294.0      18\n",
       "146.0      18\n",
       "141.0      16\n",
       "57.0       10\n",
       "104.0       8\n",
       "120.0       8\n",
       "191.0       7\n",
       "112.0       7\n",
       "155.0       6\n",
       "117.0       6\n",
       "184.0       5\n",
       "76.0        4\n",
       "90.0        4\n",
       "65.0        4\n",
       "98.0        3\n",
       "168.0       3\n",
       "149.0       3\n",
       "80.0        3\n",
       "93.0        3\n",
       "143.0       2\n",
       "86.0        2\n",
       "140.0       2\n",
       "150.0       2\n",
       "228.0       2\n",
       "270.0       2\n",
       "53.0        2\n",
       "167.0       2\n",
       "63.0        2\n",
       "40.0        2\n",
       "127.0       2\n",
       "89.0        2\n",
       "123.0       1\n",
       "84.0        1\n",
       "239.0       1\n",
       "44.0        1\n",
       "137.0       1\n",
       "163.0       1\n",
       "75.0        1\n",
       "132.0       1\n",
       "115.0       1\n",
       "195.0       1\n",
       "133.0       1\n",
       "Name: hp, dtype: int64"
      ]
     },
     "execution_count": 92,
     "metadata": {},
     "output_type": "execute_result"
    }
   ],
   "source": [
    "df[\"hp\"].value_counts(dropna = False)"
   ]
  },
  {
   "cell_type": "markdown",
   "metadata": {},
   "source": [
    "## km"
   ]
  },
  {
   "cell_type": "code",
   "execution_count": 93,
   "metadata": {
    "scrolled": true
   },
   "outputs": [
    {
     "data": {
      "text/plain": [
       "10.0       1045\n",
       "NaN        1024\n",
       "1.0         367\n",
       "5.0         170\n",
       "50.0        148\n",
       "           ... \n",
       "67469.0       1\n",
       "43197.0       1\n",
       "10027.0       1\n",
       "35882.0       1\n",
       "57.0          1\n",
       "Name: km, Length: 6690, dtype: int64"
      ]
     },
     "execution_count": 93,
     "metadata": {},
     "output_type": "execute_result"
    }
   ],
   "source": [
    "df.km.value_counts(dropna = False)"
   ]
  },
  {
   "cell_type": "code",
   "execution_count": 94,
   "metadata": {},
   "outputs": [],
   "source": [
    "fill_most2(df,\"make_model\",\"age\",\"km\")"
   ]
  },
  {
   "cell_type": "code",
   "execution_count": 95,
   "metadata": {},
   "outputs": [
    {
     "data": {
      "text/plain": [
       "10.0       2021\n",
       "1.0         385\n",
       "5.0         170\n",
       "50.0        148\n",
       "100.0       139\n",
       "           ... \n",
       "67469.0       1\n",
       "43197.0       1\n",
       "10027.0       1\n",
       "35882.0       1\n",
       "57.0          1\n",
       "Name: km, Length: 6689, dtype: int64"
      ]
     },
     "execution_count": 95,
     "metadata": {},
     "output_type": "execute_result"
    }
   ],
   "source": [
    "df.km.value_counts(dropna = False)"
   ]
  },
  {
   "cell_type": "markdown",
   "metadata": {},
   "source": [
    "## VAT"
   ]
  },
  {
   "cell_type": "code",
   "execution_count": 96,
   "metadata": {},
   "outputs": [
    {
     "data": {
      "text/plain": [
       "VAT deductible      10980\n",
       "NaN                  4513\n",
       "Price negotiable      426\n",
       "Name: vat, dtype: int64"
      ]
     },
     "execution_count": 96,
     "metadata": {},
     "output_type": "execute_result"
    }
   ],
   "source": [
    "df.vat.value_counts(dropna = False)"
   ]
  },
  {
   "cell_type": "code",
   "execution_count": 97,
   "metadata": {},
   "outputs": [],
   "source": [
    "df.vat.fillna(method = \"ffill\", inplace = True)"
   ]
  },
  {
   "cell_type": "code",
   "execution_count": 98,
   "metadata": {},
   "outputs": [
    {
     "data": {
      "text/plain": [
       "VAT deductible      15048\n",
       "Price negotiable      871\n",
       "Name: vat, dtype: int64"
      ]
     },
     "execution_count": 98,
     "metadata": {},
     "output_type": "execute_result"
    }
   ],
   "source": [
    "df.vat.value_counts(dropna = False)"
   ]
  },
  {
   "cell_type": "markdown",
   "metadata": {},
   "source": [
    "## inspection_new"
   ]
  },
  {
   "cell_type": "code",
   "execution_count": 99,
   "metadata": {},
   "outputs": [
    {
     "data": {
      "text/plain": [
       "NaN    12349\n",
       "Yes     3570\n",
       "Name: inspection_new, dtype: int64"
      ]
     },
     "execution_count": 99,
     "metadata": {},
     "output_type": "execute_result"
    }
   ],
   "source": [
    "df[\"inspection_new\"].value_counts(dropna = False)"
   ]
  },
  {
   "cell_type": "code",
   "execution_count": 100,
   "metadata": {},
   "outputs": [],
   "source": [
    "df[\"inspection_new\"]=df[\"inspection_new\"].replace({\"Yes\":1,np.nan:0}, regex=True)"
   ]
  },
  {
   "cell_type": "code",
   "execution_count": 101,
   "metadata": {},
   "outputs": [
    {
     "data": {
      "text/plain": [
       "0    12349\n",
       "1     3570\n",
       "Name: inspection_new, dtype: int64"
      ]
     },
     "execution_count": 101,
     "metadata": {},
     "output_type": "execute_result"
    }
   ],
   "source": [
    "df[\"inspection_new\"].value_counts(dropna = False)"
   ]
  },
  {
   "cell_type": "markdown",
   "metadata": {},
   "source": [
    "## drive_chain"
   ]
  },
  {
   "cell_type": "code",
   "execution_count": 102,
   "metadata": {},
   "outputs": [
    {
     "data": {
      "text/plain": [
       "front    8886\n",
       "NaN      6858\n",
       "4WD       171\n",
       "rear        4\n",
       "Name: drive_chain, dtype: int64"
      ]
     },
     "execution_count": 102,
     "metadata": {},
     "output_type": "execute_result"
    }
   ],
   "source": [
    "df[\"drive_chain\"].value_counts(dropna = False)"
   ]
  },
  {
   "cell_type": "code",
   "execution_count": 103,
   "metadata": {},
   "outputs": [],
   "source": [
    "fill_most(df,\"make_model\", \"drive_chain\")"
   ]
  },
  {
   "cell_type": "code",
   "execution_count": 104,
   "metadata": {
    "scrolled": true
   },
   "outputs": [
    {
     "data": {
      "text/plain": [
       "front    15712\n",
       "4WD        203\n",
       "rear         4\n",
       "Name: drive_chain, dtype: int64"
      ]
     },
     "execution_count": 104,
     "metadata": {},
     "output_type": "execute_result"
    }
   ],
   "source": [
    "df[\"drive_chain\"].value_counts(dropna = False)"
   ]
  },
  {
   "cell_type": "markdown",
   "metadata": {},
   "source": [
    "## Last Drop and Finish"
   ]
  },
  {
   "cell_type": "code",
   "execution_count": 105,
   "metadata": {},
   "outputs": [],
   "source": [
    "fifty_drop=[\"consumption\",\"next_inspection\",\"paint_type\",\"model_code\",\"cylinders\",\"country_version\",\"description\"]\n",
    "df.drop(fifty_drop,axis=1,inplace=True)"
   ]
  },
  {
   "cell_type": "code",
   "execution_count": 106,
   "metadata": {
    "scrolled": true
   },
   "outputs": [
    {
     "data": {
      "text/plain": [
       "(15919, 24)"
      ]
     },
     "execution_count": 106,
     "metadata": {},
     "output_type": "execute_result"
    }
   ],
   "source": [
    "df.shape"
   ]
  },
  {
   "cell_type": "code",
   "execution_count": 107,
   "metadata": {
    "scrolled": false
   },
   "outputs": [
    {
     "data": {
      "text/plain": [
       "make_model               0.000000\n",
       "body_type                0.000000\n",
       "price                    0.000000\n",
       "vat                      0.000000\n",
       "km                       0.000000\n",
       "hp                       0.000000\n",
       "type                     0.000000\n",
       "previous_owners          0.000000\n",
       "inspection_new           0.000000\n",
       "body_color               0.000000\n",
       "upholstery               0.000000\n",
       "nr_of_doors              0.000000\n",
       "nr_of_seats              0.000000\n",
       "gearing_type             0.000000\n",
       "displacement             0.000000\n",
       "drive_chain              0.000000\n",
       "fuel                     0.000000\n",
       "comfort_&_convenience    0.000000\n",
       "entertainment_&_media    0.000000\n",
       "extras                   0.000000\n",
       "safety_&_security        0.000000\n",
       "gears                    0.006282\n",
       "age                      0.000000\n",
       "consumption_comb         0.000000\n",
       "dtype: float64"
      ]
     },
     "execution_count": 107,
     "metadata": {},
     "output_type": "execute_result"
    }
   ],
   "source": [
    "df.isnull().sum()*100/df.shape[0]"
   ]
  },
  {
   "cell_type": "code",
   "execution_count": null,
   "metadata": {},
   "outputs": [],
   "source": []
  },
  {
   "cell_type": "code",
   "execution_count": null,
   "metadata": {},
   "outputs": [],
   "source": []
  },
  {
   "cell_type": "code",
   "execution_count": 108,
   "metadata": {},
   "outputs": [],
   "source": [
    "df.to_csv(\"zeromissvalue.csv\", index=False)"
   ]
  }
 ],
 "metadata": {
  "kernelspec": {
   "display_name": "Python 3 (ipykernel)",
   "language": "python",
   "name": "python3"
  },
  "language_info": {
   "codemirror_mode": {
    "name": "ipython",
    "version": 3
   },
   "file_extension": ".py",
   "mimetype": "text/x-python",
   "name": "python",
   "nbconvert_exporter": "python",
   "pygments_lexer": "ipython3",
   "version": "3.9.7"
  },
  "toc": {
   "base_numbering": 1,
   "nav_menu": {},
   "number_sections": true,
   "sideBar": true,
   "skip_h1_title": false,
   "title_cell": "Table of Contents",
   "title_sidebar": "Contents",
   "toc_cell": false,
   "toc_position": {
    "height": "calc(100% - 180px)",
    "left": "10px",
    "top": "150px",
    "width": "320px"
   },
   "toc_section_display": true,
   "toc_window_display": true
  },
  "varInspector": {
   "cols": {
    "lenName": 16,
    "lenType": 16,
    "lenVar": 40
   },
   "kernels_config": {
    "python": {
     "delete_cmd_postfix": "",
     "delete_cmd_prefix": "del ",
     "library": "var_list.py",
     "varRefreshCmd": "print(var_dic_list())"
    },
    "r": {
     "delete_cmd_postfix": ") ",
     "delete_cmd_prefix": "rm(",
     "library": "var_list.r",
     "varRefreshCmd": "cat(var_dic_list()) "
    }
   },
   "types_to_exclude": [
    "module",
    "function",
    "builtin_function_or_method",
    "instance",
    "_Feature"
   ],
   "window_display": false
  }
 },
 "nbformat": 4,
 "nbformat_minor": 4
}
